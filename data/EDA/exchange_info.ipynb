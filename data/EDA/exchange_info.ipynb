{
 "cells": [
  {
   "cell_type": "code",
   "execution_count": 1,
   "metadata": {},
   "outputs": [],
   "source": [
    "from db import waiterPsql\n",
    "import pandas as pd\n",
    "import plotly.express as px"
   ]
  },
  {
   "cell_type": "code",
   "execution_count": 2,
   "metadata": {},
   "outputs": [
    {
     "name": "stderr",
     "output_type": "stream",
     "text": [
      "/home/dantaro/Code/don-t/data/env_data/lib/python3.8/site-packages/pandas/io/sql.py:761: UserWarning: pandas only support SQLAlchemy connectable(engine/connection) ordatabase string URI or sqlite3 DBAPI2 connectionother DBAPI2 objects are not tested, please consider using SQLAlchemy\n",
      "  warnings.warn(\n"
     ]
    },
    {
     "data": {
      "text/html": [
       "<div>\n",
       "<style scoped>\n",
       "    .dataframe tbody tr th:only-of-type {\n",
       "        vertical-align: middle;\n",
       "    }\n",
       "\n",
       "    .dataframe tbody tr th {\n",
       "        vertical-align: top;\n",
       "    }\n",
       "\n",
       "    .dataframe thead th {\n",
       "        text-align: right;\n",
       "    }\n",
       "</style>\n",
       "<table border=\"1\" class=\"dataframe\">\n",
       "  <thead>\n",
       "    <tr style=\"text-align: right;\">\n",
       "      <th></th>\n",
       "      <th>symbol</th>\n",
       "      <th>status</th>\n",
       "      <th>baseasset</th>\n",
       "      <th>baseassetprecision</th>\n",
       "      <th>quoteasset</th>\n",
       "      <th>quoteprecision</th>\n",
       "      <th>quoteassetprecision</th>\n",
       "      <th>basecommissionprecision</th>\n",
       "      <th>quotecommissionprecision</th>\n",
       "      <th>icebergallowed</th>\n",
       "      <th>ocoallowed</th>\n",
       "      <th>quoteorderqtymarketallowed</th>\n",
       "      <th>isspottradingallowed</th>\n",
       "      <th>ismargintradingallowed</th>\n",
       "    </tr>\n",
       "  </thead>\n",
       "  <tbody>\n",
       "    <tr>\n",
       "      <th>0</th>\n",
       "      <td>ETHBTC</td>\n",
       "      <td>TRADING</td>\n",
       "      <td>ETH</td>\n",
       "      <td>8</td>\n",
       "      <td>BTC</td>\n",
       "      <td>8</td>\n",
       "      <td>8</td>\n",
       "      <td>8</td>\n",
       "      <td>8</td>\n",
       "      <td>True</td>\n",
       "      <td>True</td>\n",
       "      <td>True</td>\n",
       "      <td>True</td>\n",
       "      <td>True</td>\n",
       "    </tr>\n",
       "    <tr>\n",
       "      <th>1</th>\n",
       "      <td>LTCBTC</td>\n",
       "      <td>TRADING</td>\n",
       "      <td>LTC</td>\n",
       "      <td>8</td>\n",
       "      <td>BTC</td>\n",
       "      <td>8</td>\n",
       "      <td>8</td>\n",
       "      <td>8</td>\n",
       "      <td>8</td>\n",
       "      <td>True</td>\n",
       "      <td>True</td>\n",
       "      <td>True</td>\n",
       "      <td>True</td>\n",
       "      <td>True</td>\n",
       "    </tr>\n",
       "    <tr>\n",
       "      <th>2</th>\n",
       "      <td>BNBBTC</td>\n",
       "      <td>TRADING</td>\n",
       "      <td>BNB</td>\n",
       "      <td>8</td>\n",
       "      <td>BTC</td>\n",
       "      <td>8</td>\n",
       "      <td>8</td>\n",
       "      <td>8</td>\n",
       "      <td>8</td>\n",
       "      <td>True</td>\n",
       "      <td>True</td>\n",
       "      <td>True</td>\n",
       "      <td>True</td>\n",
       "      <td>True</td>\n",
       "    </tr>\n",
       "    <tr>\n",
       "      <th>3</th>\n",
       "      <td>NEOBTC</td>\n",
       "      <td>TRADING</td>\n",
       "      <td>NEO</td>\n",
       "      <td>8</td>\n",
       "      <td>BTC</td>\n",
       "      <td>8</td>\n",
       "      <td>8</td>\n",
       "      <td>8</td>\n",
       "      <td>8</td>\n",
       "      <td>True</td>\n",
       "      <td>True</td>\n",
       "      <td>True</td>\n",
       "      <td>True</td>\n",
       "      <td>True</td>\n",
       "    </tr>\n",
       "    <tr>\n",
       "      <th>4</th>\n",
       "      <td>QTUMETH</td>\n",
       "      <td>TRADING</td>\n",
       "      <td>QTUM</td>\n",
       "      <td>8</td>\n",
       "      <td>ETH</td>\n",
       "      <td>8</td>\n",
       "      <td>8</td>\n",
       "      <td>8</td>\n",
       "      <td>8</td>\n",
       "      <td>True</td>\n",
       "      <td>True</td>\n",
       "      <td>True</td>\n",
       "      <td>True</td>\n",
       "      <td>False</td>\n",
       "    </tr>\n",
       "    <tr>\n",
       "      <th>...</th>\n",
       "      <td>...</td>\n",
       "      <td>...</td>\n",
       "      <td>...</td>\n",
       "      <td>...</td>\n",
       "      <td>...</td>\n",
       "      <td>...</td>\n",
       "      <td>...</td>\n",
       "      <td>...</td>\n",
       "      <td>...</td>\n",
       "      <td>...</td>\n",
       "      <td>...</td>\n",
       "      <td>...</td>\n",
       "      <td>...</td>\n",
       "      <td>...</td>\n",
       "    </tr>\n",
       "    <tr>\n",
       "      <th>1947</th>\n",
       "      <td>TBUSD</td>\n",
       "      <td>TRADING</td>\n",
       "      <td>T</td>\n",
       "      <td>8</td>\n",
       "      <td>BUSD</td>\n",
       "      <td>8</td>\n",
       "      <td>8</td>\n",
       "      <td>8</td>\n",
       "      <td>8</td>\n",
       "      <td>True</td>\n",
       "      <td>True</td>\n",
       "      <td>True</td>\n",
       "      <td>True</td>\n",
       "      <td>False</td>\n",
       "    </tr>\n",
       "    <tr>\n",
       "      <th>1948</th>\n",
       "      <td>API3BNB</td>\n",
       "      <td>TRADING</td>\n",
       "      <td>API3</td>\n",
       "      <td>8</td>\n",
       "      <td>BNB</td>\n",
       "      <td>8</td>\n",
       "      <td>8</td>\n",
       "      <td>8</td>\n",
       "      <td>8</td>\n",
       "      <td>True</td>\n",
       "      <td>True</td>\n",
       "      <td>True</td>\n",
       "      <td>True</td>\n",
       "      <td>False</td>\n",
       "    </tr>\n",
       "    <tr>\n",
       "      <th>1949</th>\n",
       "      <td>BETAETH</td>\n",
       "      <td>TRADING</td>\n",
       "      <td>BETA</td>\n",
       "      <td>8</td>\n",
       "      <td>ETH</td>\n",
       "      <td>8</td>\n",
       "      <td>8</td>\n",
       "      <td>8</td>\n",
       "      <td>8</td>\n",
       "      <td>True</td>\n",
       "      <td>True</td>\n",
       "      <td>True</td>\n",
       "      <td>True</td>\n",
       "      <td>False</td>\n",
       "    </tr>\n",
       "    <tr>\n",
       "      <th>1950</th>\n",
       "      <td>INJTRY</td>\n",
       "      <td>TRADING</td>\n",
       "      <td>INJ</td>\n",
       "      <td>8</td>\n",
       "      <td>TRY</td>\n",
       "      <td>8</td>\n",
       "      <td>8</td>\n",
       "      <td>8</td>\n",
       "      <td>8</td>\n",
       "      <td>True</td>\n",
       "      <td>True</td>\n",
       "      <td>True</td>\n",
       "      <td>True</td>\n",
       "      <td>False</td>\n",
       "    </tr>\n",
       "    <tr>\n",
       "      <th>1951</th>\n",
       "      <td>TLMBNB</td>\n",
       "      <td>TRADING</td>\n",
       "      <td>TLM</td>\n",
       "      <td>8</td>\n",
       "      <td>BNB</td>\n",
       "      <td>8</td>\n",
       "      <td>8</td>\n",
       "      <td>8</td>\n",
       "      <td>8</td>\n",
       "      <td>True</td>\n",
       "      <td>True</td>\n",
       "      <td>True</td>\n",
       "      <td>True</td>\n",
       "      <td>False</td>\n",
       "    </tr>\n",
       "  </tbody>\n",
       "</table>\n",
       "<p>1952 rows × 14 columns</p>\n",
       "</div>"
      ],
      "text/plain": [
       "       symbol   status baseasset  baseassetprecision quoteasset  \\\n",
       "0      ETHBTC  TRADING       ETH                   8        BTC   \n",
       "1      LTCBTC  TRADING       LTC                   8        BTC   \n",
       "2      BNBBTC  TRADING       BNB                   8        BTC   \n",
       "3      NEOBTC  TRADING       NEO                   8        BTC   \n",
       "4     QTUMETH  TRADING      QTUM                   8        ETH   \n",
       "...       ...      ...       ...                 ...        ...   \n",
       "1947    TBUSD  TRADING         T                   8       BUSD   \n",
       "1948  API3BNB  TRADING      API3                   8        BNB   \n",
       "1949  BETAETH  TRADING      BETA                   8        ETH   \n",
       "1950   INJTRY  TRADING       INJ                   8        TRY   \n",
       "1951   TLMBNB  TRADING       TLM                   8        BNB   \n",
       "\n",
       "      quoteprecision  quoteassetprecision  basecommissionprecision  \\\n",
       "0                  8                    8                        8   \n",
       "1                  8                    8                        8   \n",
       "2                  8                    8                        8   \n",
       "3                  8                    8                        8   \n",
       "4                  8                    8                        8   \n",
       "...              ...                  ...                      ...   \n",
       "1947               8                    8                        8   \n",
       "1948               8                    8                        8   \n",
       "1949               8                    8                        8   \n",
       "1950               8                    8                        8   \n",
       "1951               8                    8                        8   \n",
       "\n",
       "      quotecommissionprecision  icebergallowed  ocoallowed  \\\n",
       "0                            8            True        True   \n",
       "1                            8            True        True   \n",
       "2                            8            True        True   \n",
       "3                            8            True        True   \n",
       "4                            8            True        True   \n",
       "...                        ...             ...         ...   \n",
       "1947                         8            True        True   \n",
       "1948                         8            True        True   \n",
       "1949                         8            True        True   \n",
       "1950                         8            True        True   \n",
       "1951                         8            True        True   \n",
       "\n",
       "      quoteorderqtymarketallowed  isspottradingallowed  ismargintradingallowed  \n",
       "0                           True                  True                    True  \n",
       "1                           True                  True                    True  \n",
       "2                           True                  True                    True  \n",
       "3                           True                  True                    True  \n",
       "4                           True                  True                   False  \n",
       "...                          ...                   ...                     ...  \n",
       "1947                        True                  True                   False  \n",
       "1948                        True                  True                   False  \n",
       "1949                        True                  True                   False  \n",
       "1950                        True                  True                   False  \n",
       "1951                        True                  True                   False  \n",
       "\n",
       "[1952 rows x 14 columns]"
      ]
     },
     "execution_count": 2,
     "metadata": {},
     "output_type": "execute_result"
    }
   ],
   "source": [
    "query = 'select * from exchange_info.symbols'\n",
    "db = waiterPsql()\n",
    "df = pd.read_sql(query,db.get_conn(db_name='Binance'))\n",
    "df"
   ]
  },
  {
   "cell_type": "code",
   "execution_count": 3,
   "metadata": {},
   "outputs": [
    {
     "data": {
      "text/html": [
       "<div>\n",
       "<style scoped>\n",
       "    .dataframe tbody tr th:only-of-type {\n",
       "        vertical-align: middle;\n",
       "    }\n",
       "\n",
       "    .dataframe tbody tr th {\n",
       "        vertical-align: top;\n",
       "    }\n",
       "\n",
       "    .dataframe thead th {\n",
       "        text-align: right;\n",
       "    }\n",
       "</style>\n",
       "<table border=\"1\" class=\"dataframe\">\n",
       "  <thead>\n",
       "    <tr style=\"text-align: right;\">\n",
       "      <th></th>\n",
       "      <th>quoteasset</th>\n",
       "    </tr>\n",
       "  </thead>\n",
       "  <tbody>\n",
       "    <tr>\n",
       "      <th>BTC</th>\n",
       "      <td>396</td>\n",
       "    </tr>\n",
       "    <tr>\n",
       "      <th>USDT</th>\n",
       "      <td>390</td>\n",
       "    </tr>\n",
       "    <tr>\n",
       "      <th>BUSD</th>\n",
       "      <td>318</td>\n",
       "    </tr>\n",
       "    <tr>\n",
       "      <th>BNB</th>\n",
       "      <td>259</td>\n",
       "    </tr>\n",
       "    <tr>\n",
       "      <th>ETH</th>\n",
       "      <td>197</td>\n",
       "    </tr>\n",
       "    <tr>\n",
       "      <th>TRY</th>\n",
       "      <td>59</td>\n",
       "    </tr>\n",
       "    <tr>\n",
       "      <th>USDC</th>\n",
       "      <td>41</td>\n",
       "    </tr>\n",
       "    <tr>\n",
       "      <th>EUR</th>\n",
       "      <td>37</td>\n",
       "    </tr>\n",
       "    <tr>\n",
       "      <th>PAX</th>\n",
       "      <td>34</td>\n",
       "    </tr>\n",
       "    <tr>\n",
       "      <th>BRL</th>\n",
       "      <td>33</td>\n",
       "    </tr>\n",
       "    <tr>\n",
       "      <th>TUSD</th>\n",
       "      <td>32</td>\n",
       "    </tr>\n",
       "    <tr>\n",
       "      <th>BIDR</th>\n",
       "      <td>28</td>\n",
       "    </tr>\n",
       "    <tr>\n",
       "      <th>AUD</th>\n",
       "      <td>25</td>\n",
       "    </tr>\n",
       "    <tr>\n",
       "      <th>RUB</th>\n",
       "      <td>22</td>\n",
       "    </tr>\n",
       "    <tr>\n",
       "      <th>GBP</th>\n",
       "      <td>18</td>\n",
       "    </tr>\n",
       "    <tr>\n",
       "      <th>BKRW</th>\n",
       "      <td>11</td>\n",
       "    </tr>\n",
       "    <tr>\n",
       "      <th>NGN</th>\n",
       "      <td>10</td>\n",
       "    </tr>\n",
       "    <tr>\n",
       "      <th>UAH</th>\n",
       "      <td>7</td>\n",
       "    </tr>\n",
       "    <tr>\n",
       "      <th>DAI</th>\n",
       "      <td>5</td>\n",
       "    </tr>\n",
       "    <tr>\n",
       "      <th>ZAR</th>\n",
       "      <td>5</td>\n",
       "    </tr>\n",
       "    <tr>\n",
       "      <th>IDRT</th>\n",
       "      <td>4</td>\n",
       "    </tr>\n",
       "    <tr>\n",
       "      <th>USDS</th>\n",
       "      <td>3</td>\n",
       "    </tr>\n",
       "    <tr>\n",
       "      <th>USDP</th>\n",
       "      <td>3</td>\n",
       "    </tr>\n",
       "    <tr>\n",
       "      <th>UST</th>\n",
       "      <td>3</td>\n",
       "    </tr>\n",
       "    <tr>\n",
       "      <th>TRX</th>\n",
       "      <td>2</td>\n",
       "    </tr>\n",
       "    <tr>\n",
       "      <th>XRP</th>\n",
       "      <td>2</td>\n",
       "    </tr>\n",
       "    <tr>\n",
       "      <th>BVND</th>\n",
       "      <td>2</td>\n",
       "    </tr>\n",
       "    <tr>\n",
       "      <th>VAI</th>\n",
       "      <td>2</td>\n",
       "    </tr>\n",
       "    <tr>\n",
       "      <th>GYEN</th>\n",
       "      <td>2</td>\n",
       "    </tr>\n",
       "    <tr>\n",
       "      <th>DOGE</th>\n",
       "      <td>1</td>\n",
       "    </tr>\n",
       "    <tr>\n",
       "      <th>DOT</th>\n",
       "      <td>1</td>\n",
       "    </tr>\n",
       "  </tbody>\n",
       "</table>\n",
       "</div>"
      ],
      "text/plain": [
       "      quoteasset\n",
       "BTC          396\n",
       "USDT         390\n",
       "BUSD         318\n",
       "BNB          259\n",
       "ETH          197\n",
       "TRY           59\n",
       "USDC          41\n",
       "EUR           37\n",
       "PAX           34\n",
       "BRL           33\n",
       "TUSD          32\n",
       "BIDR          28\n",
       "AUD           25\n",
       "RUB           22\n",
       "GBP           18\n",
       "BKRW          11\n",
       "NGN           10\n",
       "UAH            7\n",
       "DAI            5\n",
       "ZAR            5\n",
       "IDRT           4\n",
       "USDS           3\n",
       "USDP           3\n",
       "UST            3\n",
       "TRX            2\n",
       "XRP            2\n",
       "BVND           2\n",
       "VAI            2\n",
       "GYEN           2\n",
       "DOGE           1\n",
       "DOT            1"
      ]
     },
     "execution_count": 3,
     "metadata": {},
     "output_type": "execute_result"
    }
   ],
   "source": [
    "#markets\n",
    "m=df['quoteasset'].value_counts()\n",
    "m=pd.DataFrame.from_dict(m)\n",
    "m=m.add_prefix('')\n",
    "m\n"
   ]
  },
  {
   "cell_type": "code",
   "execution_count": 18,
   "metadata": {},
   "outputs": [
    {
     "data": {
      "application/vnd.plotly.v1+json": {
       "config": {
        "plotlyServerURL": "https://plot.ly"
       },
       "data": [
        {
         "alignmentgroup": "True",
         "hovertemplate": "index=%{x}<br>quoteasset=%{marker.color}<extra></extra>",
         "legendgroup": "",
         "marker": {
          "color": [
           396,
           390,
           318,
           259,
           197,
           59,
           41,
           37,
           34,
           33,
           32,
           28,
           25,
           22,
           18,
           11,
           10,
           7,
           5,
           5,
           4,
           3,
           3,
           3,
           2,
           2,
           2,
           2,
           2,
           1,
           1
          ],
          "coloraxis": "coloraxis",
          "pattern": {
           "shape": ""
          }
         },
         "name": "",
         "offsetgroup": "",
         "orientation": "v",
         "showlegend": false,
         "textposition": "auto",
         "texttemplate": "%{y:.2s}",
         "type": "bar",
         "x": [
          "BTC",
          "USDT",
          "BUSD",
          "BNB",
          "ETH",
          "TRY",
          "USDC",
          "EUR",
          "PAX",
          "BRL",
          "TUSD",
          "BIDR",
          "AUD",
          "RUB",
          "GBP",
          "BKRW",
          "NGN",
          "UAH",
          "DAI",
          "ZAR",
          "IDRT",
          "USDS",
          "USDP",
          "UST",
          "TRX",
          "XRP",
          "BVND",
          "VAI",
          "GYEN",
          "DOGE",
          "DOT"
         ],
         "xaxis": "x",
         "y": [
          396,
          390,
          318,
          259,
          197,
          59,
          41,
          37,
          34,
          33,
          32,
          28,
          25,
          22,
          18,
          11,
          10,
          7,
          5,
          5,
          4,
          3,
          3,
          3,
          2,
          2,
          2,
          2,
          2,
          1,
          1
         ],
         "yaxis": "y"
        }
       ],
       "layout": {
        "barmode": "relative",
        "coloraxis": {
         "colorbar": {
          "title": {
           "text": "quoteasset"
          }
         },
         "colorscale": [
          [
           0,
           "#0d0887"
          ],
          [
           0.1111111111111111,
           "#46039f"
          ],
          [
           0.2222222222222222,
           "#7201a8"
          ],
          [
           0.3333333333333333,
           "#9c179e"
          ],
          [
           0.4444444444444444,
           "#bd3786"
          ],
          [
           0.5555555555555556,
           "#d8576b"
          ],
          [
           0.6666666666666666,
           "#ed7953"
          ],
          [
           0.7777777777777778,
           "#fb9f3a"
          ],
          [
           0.8888888888888888,
           "#fdca26"
          ],
          [
           1,
           "#f0f921"
          ]
         ]
        },
        "legend": {
         "tracegroupgap": 0
        },
        "template": {
         "data": {
          "bar": [
           {
            "error_x": {
             "color": "#2a3f5f"
            },
            "error_y": {
             "color": "#2a3f5f"
            },
            "marker": {
             "line": {
              "color": "#E5ECF6",
              "width": 0.5
             },
             "pattern": {
              "fillmode": "overlay",
              "size": 10,
              "solidity": 0.2
             }
            },
            "type": "bar"
           }
          ],
          "barpolar": [
           {
            "marker": {
             "line": {
              "color": "#E5ECF6",
              "width": 0.5
             },
             "pattern": {
              "fillmode": "overlay",
              "size": 10,
              "solidity": 0.2
             }
            },
            "type": "barpolar"
           }
          ],
          "carpet": [
           {
            "aaxis": {
             "endlinecolor": "#2a3f5f",
             "gridcolor": "white",
             "linecolor": "white",
             "minorgridcolor": "white",
             "startlinecolor": "#2a3f5f"
            },
            "baxis": {
             "endlinecolor": "#2a3f5f",
             "gridcolor": "white",
             "linecolor": "white",
             "minorgridcolor": "white",
             "startlinecolor": "#2a3f5f"
            },
            "type": "carpet"
           }
          ],
          "choropleth": [
           {
            "colorbar": {
             "outlinewidth": 0,
             "ticks": ""
            },
            "type": "choropleth"
           }
          ],
          "contour": [
           {
            "colorbar": {
             "outlinewidth": 0,
             "ticks": ""
            },
            "colorscale": [
             [
              0,
              "#0d0887"
             ],
             [
              0.1111111111111111,
              "#46039f"
             ],
             [
              0.2222222222222222,
              "#7201a8"
             ],
             [
              0.3333333333333333,
              "#9c179e"
             ],
             [
              0.4444444444444444,
              "#bd3786"
             ],
             [
              0.5555555555555556,
              "#d8576b"
             ],
             [
              0.6666666666666666,
              "#ed7953"
             ],
             [
              0.7777777777777778,
              "#fb9f3a"
             ],
             [
              0.8888888888888888,
              "#fdca26"
             ],
             [
              1,
              "#f0f921"
             ]
            ],
            "type": "contour"
           }
          ],
          "contourcarpet": [
           {
            "colorbar": {
             "outlinewidth": 0,
             "ticks": ""
            },
            "type": "contourcarpet"
           }
          ],
          "heatmap": [
           {
            "colorbar": {
             "outlinewidth": 0,
             "ticks": ""
            },
            "colorscale": [
             [
              0,
              "#0d0887"
             ],
             [
              0.1111111111111111,
              "#46039f"
             ],
             [
              0.2222222222222222,
              "#7201a8"
             ],
             [
              0.3333333333333333,
              "#9c179e"
             ],
             [
              0.4444444444444444,
              "#bd3786"
             ],
             [
              0.5555555555555556,
              "#d8576b"
             ],
             [
              0.6666666666666666,
              "#ed7953"
             ],
             [
              0.7777777777777778,
              "#fb9f3a"
             ],
             [
              0.8888888888888888,
              "#fdca26"
             ],
             [
              1,
              "#f0f921"
             ]
            ],
            "type": "heatmap"
           }
          ],
          "heatmapgl": [
           {
            "colorbar": {
             "outlinewidth": 0,
             "ticks": ""
            },
            "colorscale": [
             [
              0,
              "#0d0887"
             ],
             [
              0.1111111111111111,
              "#46039f"
             ],
             [
              0.2222222222222222,
              "#7201a8"
             ],
             [
              0.3333333333333333,
              "#9c179e"
             ],
             [
              0.4444444444444444,
              "#bd3786"
             ],
             [
              0.5555555555555556,
              "#d8576b"
             ],
             [
              0.6666666666666666,
              "#ed7953"
             ],
             [
              0.7777777777777778,
              "#fb9f3a"
             ],
             [
              0.8888888888888888,
              "#fdca26"
             ],
             [
              1,
              "#f0f921"
             ]
            ],
            "type": "heatmapgl"
           }
          ],
          "histogram": [
           {
            "marker": {
             "pattern": {
              "fillmode": "overlay",
              "size": 10,
              "solidity": 0.2
             }
            },
            "type": "histogram"
           }
          ],
          "histogram2d": [
           {
            "colorbar": {
             "outlinewidth": 0,
             "ticks": ""
            },
            "colorscale": [
             [
              0,
              "#0d0887"
             ],
             [
              0.1111111111111111,
              "#46039f"
             ],
             [
              0.2222222222222222,
              "#7201a8"
             ],
             [
              0.3333333333333333,
              "#9c179e"
             ],
             [
              0.4444444444444444,
              "#bd3786"
             ],
             [
              0.5555555555555556,
              "#d8576b"
             ],
             [
              0.6666666666666666,
              "#ed7953"
             ],
             [
              0.7777777777777778,
              "#fb9f3a"
             ],
             [
              0.8888888888888888,
              "#fdca26"
             ],
             [
              1,
              "#f0f921"
             ]
            ],
            "type": "histogram2d"
           }
          ],
          "histogram2dcontour": [
           {
            "colorbar": {
             "outlinewidth": 0,
             "ticks": ""
            },
            "colorscale": [
             [
              0,
              "#0d0887"
             ],
             [
              0.1111111111111111,
              "#46039f"
             ],
             [
              0.2222222222222222,
              "#7201a8"
             ],
             [
              0.3333333333333333,
              "#9c179e"
             ],
             [
              0.4444444444444444,
              "#bd3786"
             ],
             [
              0.5555555555555556,
              "#d8576b"
             ],
             [
              0.6666666666666666,
              "#ed7953"
             ],
             [
              0.7777777777777778,
              "#fb9f3a"
             ],
             [
              0.8888888888888888,
              "#fdca26"
             ],
             [
              1,
              "#f0f921"
             ]
            ],
            "type": "histogram2dcontour"
           }
          ],
          "mesh3d": [
           {
            "colorbar": {
             "outlinewidth": 0,
             "ticks": ""
            },
            "type": "mesh3d"
           }
          ],
          "parcoords": [
           {
            "line": {
             "colorbar": {
              "outlinewidth": 0,
              "ticks": ""
             }
            },
            "type": "parcoords"
           }
          ],
          "pie": [
           {
            "automargin": true,
            "type": "pie"
           }
          ],
          "scatter": [
           {
            "marker": {
             "colorbar": {
              "outlinewidth": 0,
              "ticks": ""
             }
            },
            "type": "scatter"
           }
          ],
          "scatter3d": [
           {
            "line": {
             "colorbar": {
              "outlinewidth": 0,
              "ticks": ""
             }
            },
            "marker": {
             "colorbar": {
              "outlinewidth": 0,
              "ticks": ""
             }
            },
            "type": "scatter3d"
           }
          ],
          "scattercarpet": [
           {
            "marker": {
             "colorbar": {
              "outlinewidth": 0,
              "ticks": ""
             }
            },
            "type": "scattercarpet"
           }
          ],
          "scattergeo": [
           {
            "marker": {
             "colorbar": {
              "outlinewidth": 0,
              "ticks": ""
             }
            },
            "type": "scattergeo"
           }
          ],
          "scattergl": [
           {
            "marker": {
             "colorbar": {
              "outlinewidth": 0,
              "ticks": ""
             }
            },
            "type": "scattergl"
           }
          ],
          "scattermapbox": [
           {
            "marker": {
             "colorbar": {
              "outlinewidth": 0,
              "ticks": ""
             }
            },
            "type": "scattermapbox"
           }
          ],
          "scatterpolar": [
           {
            "marker": {
             "colorbar": {
              "outlinewidth": 0,
              "ticks": ""
             }
            },
            "type": "scatterpolar"
           }
          ],
          "scatterpolargl": [
           {
            "marker": {
             "colorbar": {
              "outlinewidth": 0,
              "ticks": ""
             }
            },
            "type": "scatterpolargl"
           }
          ],
          "scatterternary": [
           {
            "marker": {
             "colorbar": {
              "outlinewidth": 0,
              "ticks": ""
             }
            },
            "type": "scatterternary"
           }
          ],
          "surface": [
           {
            "colorbar": {
             "outlinewidth": 0,
             "ticks": ""
            },
            "colorscale": [
             [
              0,
              "#0d0887"
             ],
             [
              0.1111111111111111,
              "#46039f"
             ],
             [
              0.2222222222222222,
              "#7201a8"
             ],
             [
              0.3333333333333333,
              "#9c179e"
             ],
             [
              0.4444444444444444,
              "#bd3786"
             ],
             [
              0.5555555555555556,
              "#d8576b"
             ],
             [
              0.6666666666666666,
              "#ed7953"
             ],
             [
              0.7777777777777778,
              "#fb9f3a"
             ],
             [
              0.8888888888888888,
              "#fdca26"
             ],
             [
              1,
              "#f0f921"
             ]
            ],
            "type": "surface"
           }
          ],
          "table": [
           {
            "cells": {
             "fill": {
              "color": "#EBF0F8"
             },
             "line": {
              "color": "white"
             }
            },
            "header": {
             "fill": {
              "color": "#C8D4E3"
             },
             "line": {
              "color": "white"
             }
            },
            "type": "table"
           }
          ]
         },
         "layout": {
          "annotationdefaults": {
           "arrowcolor": "#2a3f5f",
           "arrowhead": 0,
           "arrowwidth": 1
          },
          "autotypenumbers": "strict",
          "coloraxis": {
           "colorbar": {
            "outlinewidth": 0,
            "ticks": ""
           }
          },
          "colorscale": {
           "diverging": [
            [
             0,
             "#8e0152"
            ],
            [
             0.1,
             "#c51b7d"
            ],
            [
             0.2,
             "#de77ae"
            ],
            [
             0.3,
             "#f1b6da"
            ],
            [
             0.4,
             "#fde0ef"
            ],
            [
             0.5,
             "#f7f7f7"
            ],
            [
             0.6,
             "#e6f5d0"
            ],
            [
             0.7,
             "#b8e186"
            ],
            [
             0.8,
             "#7fbc41"
            ],
            [
             0.9,
             "#4d9221"
            ],
            [
             1,
             "#276419"
            ]
           ],
           "sequential": [
            [
             0,
             "#0d0887"
            ],
            [
             0.1111111111111111,
             "#46039f"
            ],
            [
             0.2222222222222222,
             "#7201a8"
            ],
            [
             0.3333333333333333,
             "#9c179e"
            ],
            [
             0.4444444444444444,
             "#bd3786"
            ],
            [
             0.5555555555555556,
             "#d8576b"
            ],
            [
             0.6666666666666666,
             "#ed7953"
            ],
            [
             0.7777777777777778,
             "#fb9f3a"
            ],
            [
             0.8888888888888888,
             "#fdca26"
            ],
            [
             1,
             "#f0f921"
            ]
           ],
           "sequentialminus": [
            [
             0,
             "#0d0887"
            ],
            [
             0.1111111111111111,
             "#46039f"
            ],
            [
             0.2222222222222222,
             "#7201a8"
            ],
            [
             0.3333333333333333,
             "#9c179e"
            ],
            [
             0.4444444444444444,
             "#bd3786"
            ],
            [
             0.5555555555555556,
             "#d8576b"
            ],
            [
             0.6666666666666666,
             "#ed7953"
            ],
            [
             0.7777777777777778,
             "#fb9f3a"
            ],
            [
             0.8888888888888888,
             "#fdca26"
            ],
            [
             1,
             "#f0f921"
            ]
           ]
          },
          "colorway": [
           "#636efa",
           "#EF553B",
           "#00cc96",
           "#ab63fa",
           "#FFA15A",
           "#19d3f3",
           "#FF6692",
           "#B6E880",
           "#FF97FF",
           "#FECB52"
          ],
          "font": {
           "color": "#2a3f5f"
          },
          "geo": {
           "bgcolor": "white",
           "lakecolor": "white",
           "landcolor": "#E5ECF6",
           "showlakes": true,
           "showland": true,
           "subunitcolor": "white"
          },
          "hoverlabel": {
           "align": "left"
          },
          "hovermode": "closest",
          "mapbox": {
           "style": "light"
          },
          "paper_bgcolor": "white",
          "plot_bgcolor": "#E5ECF6",
          "polar": {
           "angularaxis": {
            "gridcolor": "white",
            "linecolor": "white",
            "ticks": ""
           },
           "bgcolor": "#E5ECF6",
           "radialaxis": {
            "gridcolor": "white",
            "linecolor": "white",
            "ticks": ""
           }
          },
          "scene": {
           "xaxis": {
            "backgroundcolor": "#E5ECF6",
            "gridcolor": "white",
            "gridwidth": 2,
            "linecolor": "white",
            "showbackground": true,
            "ticks": "",
            "zerolinecolor": "white"
           },
           "yaxis": {
            "backgroundcolor": "#E5ECF6",
            "gridcolor": "white",
            "gridwidth": 2,
            "linecolor": "white",
            "showbackground": true,
            "ticks": "",
            "zerolinecolor": "white"
           },
           "zaxis": {
            "backgroundcolor": "#E5ECF6",
            "gridcolor": "white",
            "gridwidth": 2,
            "linecolor": "white",
            "showbackground": true,
            "ticks": "",
            "zerolinecolor": "white"
           }
          },
          "shapedefaults": {
           "line": {
            "color": "#2a3f5f"
           }
          },
          "ternary": {
           "aaxis": {
            "gridcolor": "white",
            "linecolor": "white",
            "ticks": ""
           },
           "baxis": {
            "gridcolor": "white",
            "linecolor": "white",
            "ticks": ""
           },
           "bgcolor": "#E5ECF6",
           "caxis": {
            "gridcolor": "white",
            "linecolor": "white",
            "ticks": ""
           }
          },
          "title": {
           "x": 0.05
          },
          "xaxis": {
           "automargin": true,
           "gridcolor": "white",
           "linecolor": "white",
           "ticks": "",
           "title": {
            "standoff": 15
           },
           "zerolinecolor": "white",
           "zerolinewidth": 2
          },
          "yaxis": {
           "automargin": true,
           "gridcolor": "white",
           "linecolor": "white",
           "ticks": "",
           "title": {
            "standoff": 15
           },
           "zerolinecolor": "white",
           "zerolinewidth": 2
          }
         }
        },
        "title": {
         "text": "Markets by quote"
        },
        "xaxis": {
         "anchor": "y",
         "domain": [
          0,
          1
         ],
         "title": {
          "text": "index"
         }
        },
        "yaxis": {
         "anchor": "x",
         "domain": [
          0,
          1
         ],
         "title": {
          "text": "quoteasset"
         }
        }
       }
      }
     },
     "metadata": {},
     "output_type": "display_data"
    }
   ],
   "source": [
    "\n",
    "fig = px.bar(m, x=m.index, y='quoteasset', text_auto='.2s', color = 'quoteasset', title=\"Markets by quote\")\n",
    "fig.show()"
   ]
  },
  {
   "cell_type": "code",
   "execution_count": 19,
   "metadata": {},
   "outputs": [
    {
     "data": {
      "application/vnd.plotly.v1+json": {
       "config": {
        "plotlyServerURL": "https://plot.ly"
       },
       "data": [
        {
         "domain": {
          "x": [
           0,
           1
          ],
          "y": [
           0,
           1
          ]
         },
         "hovertemplate": "symbol=%{label}<br>quoteasset=%{value}<extra></extra>",
         "labels": [
          "ETHBTC",
          "LTCBTC",
          "BNBBTC",
          "NEOBTC",
          "QTUMETH",
          "EOSETH",
          "SNTETH",
          "BNTETH",
          "BCCBTC",
          "GASBTC",
          "BNBETH",
          "BTCUSDT",
          "ETHUSDT",
          "HSRBTC",
          "OAXETH",
          "DNTETH",
          "MCOETH",
          "ICNETH",
          "MCOBTC",
          "WTCBTC",
          "WTCETH",
          "LRCBTC",
          "LRCETH",
          "QTUMBTC",
          "YOYOBTC",
          "OMGBTC",
          "OMGETH",
          "ZRXBTC",
          "ZRXETH",
          "STRATBTC",
          "STRATETH",
          "SNGLSBTC",
          "SNGLSETH",
          "BQXBTC",
          "BQXETH",
          "KNCBTC",
          "KNCETH",
          "FUNBTC",
          "FUNETH",
          "SNMBTC",
          "SNMETH",
          "NEOETH",
          "IOTABTC",
          "IOTAETH",
          "LINKBTC",
          "LINKETH",
          "XVGBTC",
          "XVGETH",
          "SALTBTC",
          "SALTETH",
          "MDABTC",
          "MDAETH",
          "MTLBTC",
          "MTLETH",
          "SUBBTC",
          "SUBETH",
          "EOSBTC",
          "SNTBTC",
          "ETCETH",
          "ETCBTC",
          "MTHBTC",
          "MTHETH",
          "ENGBTC",
          "ENGETH",
          "DNTBTC",
          "ZECBTC",
          "ZECETH",
          "BNTBTC",
          "ASTBTC",
          "ASTETH",
          "DASHBTC",
          "DASHETH",
          "OAXBTC",
          "ICNBTC",
          "BTGBTC",
          "BTGETH",
          "EVXBTC",
          "EVXETH",
          "REQBTC",
          "REQETH",
          "VIBBTC",
          "VIBETH",
          "HSRETH",
          "TRXBTC",
          "TRXETH",
          "POWRBTC",
          "POWRETH",
          "ARKBTC",
          "ARKETH",
          "YOYOETH",
          "XRPBTC",
          "XRPETH",
          "MODBTC",
          "MODETH",
          "ENJBTC",
          "ENJETH",
          "STORJBTC",
          "STORJETH",
          "BNBUSDT",
          "VENBNB",
          "YOYOBNB",
          "POWRBNB",
          "VENBTC",
          "VENETH",
          "KMDBTC",
          "KMDETH",
          "NULSBNB",
          "RCNBTC",
          "RCNETH",
          "RCNBNB",
          "NULSBTC",
          "NULSETH",
          "RDNBTC",
          "RDNETH",
          "RDNBNB",
          "XMRBTC",
          "XMRETH",
          "DLTBNB",
          "WTCBNB",
          "DLTBTC",
          "DLTETH",
          "AMBBTC",
          "AMBETH",
          "AMBBNB",
          "BCCETH",
          "BCCUSDT",
          "BCCBNB",
          "BATBTC",
          "BATETH",
          "BATBNB",
          "BCPTBTC",
          "BCPTETH",
          "BCPTBNB",
          "ARNBTC",
          "ARNETH",
          "GVTBTC",
          "GVTETH",
          "CDTBTC",
          "CDTETH",
          "GXSBTC",
          "GXSETH",
          "NEOUSDT",
          "NEOBNB",
          "POEBTC",
          "POEETH",
          "QSPBTC",
          "QSPETH",
          "QSPBNB",
          "BTSBTC",
          "BTSETH",
          "BTSBNB",
          "XZCBTC",
          "XZCETH",
          "XZCBNB",
          "LSKBTC",
          "LSKETH",
          "LSKBNB",
          "TNTBTC",
          "TNTETH",
          "FUELBTC",
          "FUELETH",
          "MANABTC",
          "MANAETH",
          "BCDBTC",
          "BCDETH",
          "DGDBTC",
          "DGDETH",
          "IOTABNB",
          "ADXBTC",
          "ADXETH",
          "ADXBNB",
          "ADABTC",
          "ADAETH",
          "PPTBTC",
          "PPTETH",
          "CMTBTC",
          "CMTETH",
          "CMTBNB",
          "XLMBTC",
          "XLMETH",
          "XLMBNB",
          "CNDBTC",
          "CNDETH",
          "CNDBNB",
          "LENDBTC",
          "LENDETH",
          "WABIBTC",
          "WABIETH",
          "WABIBNB",
          "LTCETH",
          "LTCUSDT",
          "LTCBNB",
          "TNBBTC",
          "TNBETH",
          "WAVESBTC",
          "WAVESETH",
          "WAVESBNB",
          "GTOBTC",
          "GTOETH",
          "GTOBNB",
          "ICXBTC",
          "ICXETH",
          "ICXBNB",
          "OSTBTC",
          "OSTETH",
          "OSTBNB",
          "ELFBTC",
          "ELFETH",
          "AIONBTC",
          "AIONETH",
          "AIONBNB",
          "NEBLBTC",
          "NEBLBNB",
          "BRDBTC",
          "BRDETH",
          "BRDBNB",
          "MCOBNB",
          "EDOBTC",
          "EDOETH",
          "WINGSBTC",
          "WINGSETH",
          "NAVBTC",
          "NAVETH",
          "NAVBNB",
          "LUNBTC",
          "LUNETH",
          "TRIGBTC",
          "TRIGETH",
          "TRIGBNB",
          "APPCBTC",
          "APPCETH",
          "APPCBNB",
          "VIBEBTC",
          "VIBEETH",
          "RLCBTC",
          "RLCETH",
          "RLCBNB",
          "INSBTC",
          "INSETH",
          "PIVXBTC",
          "PIVXBNB",
          "IOSTBTC",
          "IOSTETH",
          "CHATBTC",
          "CHATETH",
          "STEEMBTC",
          "STEEMETH",
          "STEEMBNB",
          "NANOBTC",
          "NANOETH",
          "NANOBNB",
          "VIABTC",
          "VIAETH",
          "VIABNB",
          "BLZBTC",
          "BLZETH",
          "BLZBNB",
          "AEBTC",
          "AEETH",
          "AEBNB",
          "RPXBTC",
          "RPXETH",
          "RPXBNB",
          "NCASHBTC",
          "NCASHETH",
          "NCASHBNB",
          "POABTC",
          "POAETH",
          "POABNB",
          "ZILBTC",
          "ZILETH",
          "ZILBNB",
          "ONTBTC",
          "ONTETH",
          "ONTBNB",
          "STORMBTC",
          "STORMETH",
          "STORMBNB",
          "QTUMBNB",
          "QTUMUSDT",
          "XEMBTC",
          "XEMETH",
          "XEMBNB",
          "WANBTC",
          "WANETH",
          "WANBNB",
          "WPRBTC",
          "WPRETH",
          "QLCBTC",
          "QLCETH",
          "SYSBTC",
          "SYSETH",
          "SYSBNB",
          "QLCBNB",
          "GRSBTC",
          "GRSETH",
          "ADAUSDT",
          "ADABNB",
          "CLOAKBTC",
          "CLOAKETH",
          "GNTBTC",
          "GNTETH",
          "GNTBNB",
          "LOOMBTC",
          "LOOMETH",
          "LOOMBNB",
          "XRPUSDT",
          "BCNBTC",
          "BCNETH",
          "BCNBNB",
          "REPBTC",
          "REPBNB",
          "BTCTUSD",
          "TUSDBTC",
          "ETHTUSD",
          "TUSDETH",
          "TUSDBNB",
          "ZENBTC",
          "ZENETH",
          "ZENBNB",
          "SKYBTC",
          "SKYETH",
          "SKYBNB",
          "EOSUSDT",
          "EOSBNB",
          "CVCBTC",
          "CVCETH",
          "CVCBNB",
          "THETABTC",
          "THETAETH",
          "THETABNB",
          "XRPBNB",
          "TUSDUSDT",
          "IOTAUSDT",
          "XLMUSDT",
          "IOTXBTC",
          "IOTXETH",
          "QKCBTC",
          "QKCETH",
          "AGIBTC",
          "AGIETH",
          "AGIBNB",
          "NXSBTC",
          "NXSETH",
          "NXSBNB",
          "ENJBNB",
          "DATABTC",
          "DATAETH",
          "ONTUSDT",
          "TRXBNB",
          "TRXUSDT",
          "ETCUSDT",
          "ETCBNB",
          "ICXUSDT",
          "SCBTC",
          "SCETH",
          "NPXSBTC",
          "NPXSETH",
          "VENUSDT",
          "KEYBTC",
          "KEYETH",
          "NASBTC",
          "NASETH",
          "NASBNB",
          "MFTBTC",
          "MFTETH",
          "MFTBNB",
          "DENTBTC",
          "DENTETH",
          "ARDRBTC",
          "ARDRETH",
          "ARDRBNB",
          "NULSUSDT",
          "HOTBTC",
          "HOTETH",
          "VETBTC",
          "VETETH",
          "VETUSDT",
          "VETBNB",
          "DOCKBTC",
          "DOCKETH",
          "POLYBTC",
          "POLYBNB",
          "PHXBTC",
          "PHXETH",
          "PHXBNB",
          "HCBTC",
          "HCETH",
          "GOBTC",
          "GOBNB",
          "PAXBTC",
          "PAXBNB",
          "PAXUSDT",
          "PAXETH",
          "RVNBTC",
          "DCRBTC",
          "DCRBNB",
          "USDCBNB",
          "MITHBTC",
          "MITHBNB",
          "BCHABCBTC",
          "BCHSVBTC",
          "BCHABCUSDT",
          "BCHSVUSDT",
          "BNBPAX",
          "BTCPAX",
          "ETHPAX",
          "XRPPAX",
          "EOSPAX",
          "XLMPAX",
          "RENBTC",
          "RENBNB",
          "BNBTUSD",
          "XRPTUSD",
          "EOSTUSD",
          "XLMTUSD",
          "BNBUSDC",
          "BTCUSDC",
          "ETHUSDC",
          "XRPUSDC",
          "EOSUSDC",
          "XLMUSDC",
          "USDCUSDT",
          "ADATUSD",
          "TRXTUSD",
          "NEOTUSD",
          "TRXXRP",
          "XZCXRP",
          "PAXTUSD",
          "USDCTUSD",
          "USDCPAX",
          "LINKUSDT",
          "LINKTUSD",
          "LINKPAX",
          "LINKUSDC",
          "WAVESUSDT",
          "WAVESTUSD",
          "WAVESPAX",
          "WAVESUSDC",
          "BCHABCTUSD",
          "BCHABCPAX",
          "BCHABCUSDC",
          "BCHSVTUSD",
          "BCHSVPAX",
          "BCHSVUSDC",
          "LTCTUSD",
          "LTCPAX",
          "LTCUSDC",
          "TRXPAX",
          "TRXUSDC",
          "BTTBTC",
          "BTTBNB",
          "BTTUSDT",
          "BNBUSDS",
          "BTCUSDS",
          "USDSUSDT",
          "USDSPAX",
          "USDSTUSD",
          "USDSUSDC",
          "BTTPAX",
          "BTTTUSD",
          "BTTUSDC",
          "ONGBNB",
          "ONGBTC",
          "ONGUSDT",
          "HOTBNB",
          "HOTUSDT",
          "ZILUSDT",
          "ZRXBNB",
          "ZRXUSDT",
          "FETBNB",
          "FETBTC",
          "FETUSDT",
          "BATUSDT",
          "XMRBNB",
          "XMRUSDT",
          "ZECBNB",
          "ZECUSDT",
          "ZECPAX",
          "ZECTUSD",
          "ZECUSDC",
          "IOSTUSDT",
          "CELRBNB",
          "CELRBTC",
          "CELRUSDT",
          "ADAPAX",
          "ADAUSDC",
          "NEOPAX",
          "NEOUSDC",
          "DASHBNB",
          "DASHUSDT",
          "NANOUSDT",
          "OMGBNB",
          "OMGUSDT",
          "THETAUSDT",
          "ENJUSDT",
          "MITHUSDT",
          "MATICBNB",
          "MATICBTC",
          "MATICUSDT",
          "ATOMBNB",
          "ATOMBTC",
          "ATOMUSDT",
          "ATOMUSDC",
          "ATOMPAX",
          "ATOMTUSD",
          "ETCUSDC",
          "ETCPAX",
          "ETCTUSD",
          "BATUSDC",
          "BATPAX",
          "BATTUSD",
          "PHBBNB",
          "PHBBTC",
          "PHBUSDC",
          "PHBTUSD",
          "PHBPAX",
          "TFUELBNB",
          "TFUELBTC",
          "TFUELUSDT",
          "TFUELUSDC",
          "TFUELTUSD",
          "TFUELPAX",
          "ONEBNB",
          "ONEBTC",
          "ONEUSDT",
          "ONETUSD",
          "ONEPAX",
          "ONEUSDC",
          "FTMBNB",
          "FTMBTC",
          "FTMUSDT",
          "FTMTUSD",
          "FTMPAX",
          "FTMUSDC",
          "BTCBBTC",
          "BCPTTUSD",
          "BCPTPAX",
          "BCPTUSDC",
          "ALGOBNB",
          "ALGOBTC",
          "ALGOUSDT",
          "ALGOTUSD",
          "ALGOPAX",
          "ALGOUSDC",
          "USDSBUSDT",
          "USDSBUSDS",
          "GTOUSDT",
          "GTOPAX",
          "GTOTUSD",
          "GTOUSDC",
          "ERDBNB",
          "ERDBTC",
          "ERDUSDT",
          "ERDPAX",
          "ERDUSDC",
          "DOGEBNB",
          "DOGEBTC",
          "DOGEUSDT",
          "DOGEPAX",
          "DOGEUSDC",
          "DUSKBNB",
          "DUSKBTC",
          "DUSKUSDT",
          "DUSKUSDC",
          "DUSKPAX",
          "BGBPUSDC",
          "ANKRBNB",
          "ANKRBTC",
          "ANKRUSDT",
          "ANKRTUSD",
          "ANKRPAX",
          "ANKRUSDC",
          "ONTPAX",
          "ONTUSDC",
          "WINBNB",
          "WINBTC",
          "WINUSDT",
          "WINUSDC",
          "COSBNB",
          "COSBTC",
          "COSUSDT",
          "TUSDBTUSD",
          "NPXSUSDT",
          "NPXSUSDC",
          "COCOSBNB",
          "COCOSBTC",
          "COCOSUSDT",
          "MTLUSDT",
          "TOMOBNB",
          "TOMOBTC",
          "TOMOUSDT",
          "TOMOUSDC",
          "PERLBNB",
          "PERLBTC",
          "PERLUSDC",
          "PERLUSDT",
          "DENTUSDT",
          "MFTUSDT",
          "KEYUSDT",
          "STORMUSDT",
          "DOCKUSDT",
          "WANUSDT",
          "FUNUSDT",
          "CVCUSDT",
          "BTTTRX",
          "WINTRX",
          "CHZBNB",
          "CHZBTC",
          "CHZUSDT",
          "BANDBNB",
          "BANDBTC",
          "BANDUSDT",
          "BNBBUSD",
          "BTCBUSD",
          "BUSDUSDT",
          "BEAMBNB",
          "BEAMBTC",
          "BEAMUSDT",
          "XTZBNB",
          "XTZBTC",
          "XTZUSDT",
          "RENUSDT",
          "RVNUSDT",
          "HCUSDT",
          "HBARBNB",
          "HBARBTC",
          "HBARUSDT",
          "NKNBNB",
          "NKNBTC",
          "NKNUSDT",
          "XRPBUSD",
          "ETHBUSD",
          "BCHABCBUSD",
          "LTCBUSD",
          "LINKBUSD",
          "ETCBUSD",
          "STXBNB",
          "STXBTC",
          "STXUSDT",
          "KAVABNB",
          "KAVABTC",
          "KAVAUSDT",
          "BUSDNGN",
          "BNBNGN",
          "BTCNGN",
          "ARPABNB",
          "ARPABTC",
          "ARPAUSDT",
          "TRXBUSD",
          "EOSBUSD",
          "IOTXUSDT",
          "RLCUSDT",
          "MCOUSDT",
          "XLMBUSD",
          "ADABUSD",
          "CTXCBNB",
          "CTXCBTC",
          "CTXCUSDT",
          "BCHBNB",
          "BCHBTC",
          "BCHUSDT",
          "BCHUSDC",
          "BCHTUSD",
          "BCHPAX",
          "BCHBUSD",
          "BTCRUB",
          "ETHRUB",
          "XRPRUB",
          "BNBRUB",
          "TROYBNB",
          "TROYBTC",
          "TROYUSDT",
          "BUSDRUB",
          "QTUMBUSD",
          "VETBUSD",
          "VITEBNB",
          "VITEBTC",
          "VITEUSDT",
          "FTTBNB",
          "FTTBTC",
          "FTTUSDT",
          "BTCTRY",
          "BNBTRY",
          "BUSDTRY",
          "ETHTRY",
          "XRPTRY",
          "USDTTRY",
          "USDTRUB",
          "BTCEUR",
          "ETHEUR",
          "BNBEUR",
          "XRPEUR",
          "EURBUSD",
          "EURUSDT",
          "OGNBNB",
          "OGNBTC",
          "OGNUSDT",
          "DREPBNB",
          "DREPBTC",
          "DREPUSDT",
          "BULLUSDT",
          "BULLBUSD",
          "BEARUSDT",
          "BEARBUSD",
          "ETHBULLUSDT",
          "ETHBULLBUSD",
          "ETHBEARUSDT",
          "ETHBEARBUSD",
          "TCTBNB",
          "TCTBTC",
          "TCTUSDT",
          "WRXBNB",
          "WRXBTC",
          "WRXUSDT",
          "ICXBUSD",
          "BTSUSDT",
          "BTSBUSD",
          "LSKUSDT",
          "BNTUSDT",
          "BNTBUSD",
          "LTOBNB",
          "LTOBTC",
          "LTOUSDT",
          "ATOMBUSD",
          "DASHBUSD",
          "NEOBUSD",
          "WAVESBUSD",
          "XTZBUSD",
          "EOSBULLUSDT",
          "EOSBULLBUSD",
          "EOSBEARUSDT",
          "EOSBEARBUSD",
          "XRPBULLUSDT",
          "XRPBULLBUSD",
          "XRPBEARUSDT",
          "XRPBEARBUSD",
          "BATBUSD",
          "ENJBUSD",
          "NANOBUSD",
          "ONTBUSD",
          "RVNBUSD",
          "STRATBUSD",
          "STRATBNB",
          "STRATUSDT",
          "AIONBUSD",
          "AIONUSDT",
          "MBLBNB",
          "MBLBTC",
          "MBLUSDT",
          "COTIBNB",
          "COTIBTC",
          "COTIUSDT",
          "ALGOBUSD",
          "BTTBUSD",
          "TOMOBUSD",
          "XMRBUSD",
          "ZECBUSD",
          "BNBBULLUSDT",
          "BNBBULLBUSD",
          "BNBBEARUSDT",
          "BNBBEARBUSD",
          "STPTBNB",
          "STPTBTC",
          "STPTUSDT",
          "BTCZAR",
          "ETHZAR",
          "BNBZAR",
          "USDTZAR",
          "BUSDZAR",
          "BTCBKRW",
          "ETHBKRW",
          "BNBBKRW",
          "WTCUSDT",
          "DATABUSD",
          "DATAUSDT",
          "XZCUSDT",
          "SOLBNB",
          "SOLBTC",
          "SOLUSDT",
          "SOLBUSD",
          "BTCIDRT",
          "BNBIDRT",
          "USDTIDRT",
          "BUSDIDRT",
          "CTSIBTC",
          "CTSIUSDT",
          "CTSIBNB",
          "CTSIBUSD",
          "HIVEBNB",
          "HIVEBTC",
          "HIVEUSDT",
          "CHRBNB",
          "CHRBTC",
          "CHRUSDT",
          "BTCUPUSDT",
          "BTCDOWNUSDT",
          "GXSUSDT",
          "ARDRUSDT",
          "ERDBUSD",
          "LENDUSDT",
          "HBARBUSD",
          "MATICBUSD",
          "WRXBUSD",
          "ZILBUSD",
          "MDTBNB",
          "MDTBTC",
          "MDTUSDT",
          "STMXBTC",
          "STMXETH",
          "STMXUSDT",
          "KNCBUSD",
          "KNCUSDT",
          "REPBUSD",
          "REPUSDT",
          "LRCBUSD",
          "LRCUSDT",
          "IQBNB",
          "IQBUSD",
          "PNTBTC",
          "PNTUSDT",
          "BTCGBP",
          "ETHGBP",
          "XRPGBP",
          "BNBGBP",
          "GBPBUSD",
          "DGBBTC",
          "DGBBUSD",
          "BTCUAH",
          "USDTUAH",
          "COMPBTC",
          "COMPBNB",
          "COMPBUSD",
          "COMPUSDT",
          "BTCBIDR",
          "ETHBIDR",
          "BNBBIDR",
          "BUSDBIDR",
          "USDTBIDR",
          "BKRWUSDT",
          "BKRWBUSD",
          "SCUSDT",
          "ZENUSDT",
          "SXPBTC",
          "SXPBNB",
          "SXPBUSD",
          "SNXBTC",
          "SNXBNB",
          "SNXBUSD",
          "SNXUSDT",
          "ETHUPUSDT",
          "ETHDOWNUSDT",
          "ADAUPUSDT",
          "ADADOWNUSDT",
          "LINKUPUSDT",
          "LINKDOWNUSDT",
          "VTHOBNB",
          "VTHOBUSD",
          "VTHOUSDT",
          "DCRBUSD",
          "DGBUSDT",
          "GBPUSDT",
          "STORJBUSD",
          "SXPUSDT",
          "IRISBNB",
          "IRISBTC",
          "IRISBUSD",
          "MKRBNB",
          "MKRBTC",
          "MKRUSDT",
          "MKRBUSD",
          "DAIBNB",
          "DAIBTC",
          "DAIUSDT",
          "DAIBUSD",
          "RUNEBNB",
          "RUNEBTC",
          "RUNEBUSD",
          "MANABUSD",
          "DOGEBUSD",
          "LENDBUSD",
          "ZRXBUSD",
          "DCRUSDT",
          "STORJUSDT",
          "XRPBKRW",
          "ADABKRW",
          "BTCAUD",
          "ETHAUD",
          "AUDBUSD",
          "FIOBNB",
          "FIOBTC",
          "FIOBUSD",
          "BNBUPUSDT",
          "BNBDOWNUSDT",
          "XTZUPUSDT",
          "XTZDOWNUSDT",
          "AVABNB",
          "AVABTC",
          "AVABUSD",
          "USDTBKRW",
          "BUSDBKRW",
          "IOTABUSD",
          "MANAUSDT",
          "XRPAUD",
          "BNBAUD",
          "AUDUSDT",
          "BALBNB",
          "BALBTC",
          "BALBUSD",
          "YFIBNB",
          "YFIBTC",
          "YFIBUSD",
          "YFIUSDT",
          "BLZBUSD",
          "KMDBUSD",
          "BALUSDT",
          "BLZUSDT",
          "IRISUSDT",
          "KMDUSDT",
          "BTCDAI",
          "ETHDAI",
          "BNBDAI",
          "USDTDAI",
          "BUSDDAI",
          "JSTBNB",
          "JSTBTC",
          "JSTBUSD",
          "JSTUSDT",
          "SRMBNB",
          "SRMBTC",
          "SRMBUSD",
          "SRMUSDT",
          "ANTBNB",
          "ANTBTC",
          "ANTBUSD",
          "ANTUSDT",
          "CRVBNB",
          "CRVBTC",
          "CRVBUSD",
          "CRVUSDT",
          "SANDBNB",
          "SANDBTC",
          "SANDUSDT",
          "SANDBUSD",
          "OCEANBNB",
          "OCEANBTC",
          "OCEANBUSD",
          "OCEANUSDT",
          "NMRBTC",
          "NMRBUSD",
          "NMRUSDT",
          "DOTBNB",
          "DOTBTC",
          "DOTBUSD",
          "DOTUSDT",
          "LUNABNB",
          "LUNABTC",
          "LUNABUSD",
          "LUNAUSDT",
          "IDEXBTC",
          "IDEXBUSD",
          "RSRBNB",
          "RSRBTC",
          "RSRBUSD",
          "RSRUSDT",
          "PAXGBNB",
          "PAXGBTC",
          "PAXGBUSD",
          "PAXGUSDT",
          "WNXMBNB",
          "WNXMBTC",
          "WNXMBUSD",
          "WNXMUSDT",
          "TRBBNB",
          "TRBBTC",
          "TRBBUSD",
          "TRBUSDT",
          "ETHNGN",
          "DOTBIDR",
          "LINKAUD",
          "SXPAUD",
          "BZRXBNB",
          "BZRXBTC",
          "BZRXBUSD",
          "BZRXUSDT",
          "WBTCBTC",
          "WBTCETH",
          "SUSHIBNB",
          "SUSHIBTC",
          "SUSHIBUSD",
          "SUSHIUSDT",
          "YFIIBNB",
          "YFIIBTC",
          "YFIIBUSD",
          "YFIIUSDT",
          "KSMBNB",
          "KSMBTC",
          "KSMBUSD",
          "KSMUSDT",
          "EGLDBNB",
          "EGLDBTC",
          "EGLDBUSD",
          "EGLDUSDT",
          "DIABNB",
          "DIABTC",
          "DIABUSD",
          "DIAUSDT",
          "RUNEUSDT",
          "FIOUSDT",
          "UMABTC",
          "UMAUSDT",
          "EOSUPUSDT",
          "EOSDOWNUSDT",
          "TRXUPUSDT",
          "TRXDOWNUSDT",
          "XRPUPUSDT",
          "XRPDOWNUSDT",
          "DOTUPUSDT",
          "DOTDOWNUSDT",
          "SRMBIDR",
          "ONEBIDR",
          "LINKTRY",
          "USDTNGN",
          "BELBNB",
          "BELBTC",
          "BELBUSD",
          "BELUSDT",
          "WINGBNB",
          "WINGBTC",
          "SWRVBNB",
          "SWRVBUSD",
          "WINGBUSD",
          "WINGUSDT",
          "LTCUPUSDT",
          "LTCDOWNUSDT",
          "LENDBKRW",
          "SXPEUR",
          "CREAMBNB",
          "CREAMBUSD",
          "UNIBNB",
          "UNIBTC",
          "UNIBUSD",
          "UNIUSDT",
          "NBSBTC",
          "NBSUSDT",
          "OXTBTC",
          "OXTUSDT",
          "SUNBTC",
          "SUNUSDT",
          "AVAXBNB",
          "AVAXBTC",
          "AVAXBUSD",
          "AVAXUSDT",
          "HNTBTC",
          "HNTUSDT",
          "BAKEBNB",
          "BURGERBNB",
          "SXPBIDR",
          "LINKBKRW",
          "FLMBNB",
          "FLMBTC",
          "FLMBUSD",
          "FLMUSDT",
          "SCRTBTC",
          "SCRTETH",
          "CAKEBNB",
          "CAKEBUSD",
          "SPARTABNB",
          "UNIUPUSDT",
          "UNIDOWNUSDT",
          "ORNBTC",
          "ORNUSDT",
          "TRXNGN",
          "SXPTRY",
          "UTKBTC",
          "UTKUSDT",
          "XVSBNB",
          "XVSBTC",
          "XVSBUSD",
          "XVSUSDT",
          "ALPHABNB",
          "ALPHABTC",
          "ALPHABUSD",
          "ALPHAUSDT",
          "VIDTBTC",
          "VIDTBUSD",
          "AAVEBNB",
          "BTCBRL",
          "USDTBRL",
          "AAVEBTC",
          "AAVEETH",
          "AAVEBUSD",
          "AAVEUSDT",
          "AAVEBKRW",
          "NEARBNB",
          "NEARBTC",
          "NEARBUSD",
          "NEARUSDT",
          "SXPUPUSDT",
          "SXPDOWNUSDT",
          "DOTBKRW",
          "SXPGBP",
          "FILBNB",
          "FILBTC",
          "FILBUSD",
          "FILUSDT",
          "FILUPUSDT",
          "FILDOWNUSDT",
          "YFIUPUSDT",
          "YFIDOWNUSDT",
          "INJBNB",
          "INJBTC",
          "INJBUSD",
          "INJUSDT",
          "AERGOBTC",
          "AERGOBUSD",
          "LINKEUR",
          "ONEBUSD",
          "EASYETH",
          "AUDIOBTC",
          "AUDIOBUSD",
          "AUDIOUSDT",
          "CTKBNB",
          "CTKBTC",
          "CTKBUSD",
          "CTKUSDT",
          "BCHUPUSDT",
          "BCHDOWNUSDT",
          "BOTBTC",
          "BOTBUSD",
          "ETHBRL",
          "DOTEUR",
          "AKROBTC",
          "AKROUSDT",
          "KP3RBNB",
          "KP3RBUSD",
          "AXSBNB",
          "AXSBTC",
          "AXSBUSD",
          "AXSUSDT",
          "HARDBNB",
          "HARDBTC",
          "HARDBUSD",
          "HARDUSDT",
          "BNBBRL",
          "LTCEUR",
          "RENBTCBTC",
          "RENBTCETH",
          "DNTBUSD",
          "DNTUSDT",
          "SLPETH",
          "ADAEUR",
          "LTCNGN",
          "CVPETH",
          "CVPBUSD",
          "STRAXBTC",
          "STRAXETH",
          "STRAXBUSD",
          "STRAXUSDT",
          "FORBTC",
          "FORBUSD",
          "UNFIBNB",
          "UNFIBTC",
          "UNFIBUSD",
          "UNFIUSDT",
          "FRONTETH",
          "FRONTBUSD",
          "BCHABUSD",
          "ROSEBTC",
          "ROSEBUSD",
          "ROSEUSDT",
          "AVAXTRY",
          "BUSDBRL",
          "AVAUSDT",
          "SYSBUSD",
          "XEMUSDT",
          "HEGICETH",
          "HEGICBUSD",
          "AAVEUPUSDT",
          "AAVEDOWNUSDT",
          "PROMBNB",
          "PROMBUSD",
          "XRPBRL",
          "XRPNGN",
          "SKLBTC",
          "SKLBUSD",
          "SKLUSDT",
          "BCHEUR",
          "YFIEUR",
          "ZILBIDR",
          "SUSDBTC",
          "SUSDETH",
          "SUSDUSDT",
          "COVERETH",
          "COVERBUSD",
          "GLMBTC",
          "GLMETH",
          "GHSTETH",
          "GHSTBUSD",
          "SUSHIUPUSDT",
          "SUSHIDOWNUSDT",
          "XLMUPUSDT",
          "XLMDOWNUSDT",
          "LINKBRL",
          "LINKNGN",
          "LTCRUB",
          "TRXTRY",
          "XLMEUR",
          "DFETH",
          "DFBUSD",
          "GRTBTC",
          "GRTETH",
          "GRTUSDT",
          "JUVBTC",
          "JUVBUSD",
          "JUVUSDT",
          "PSGBTC",
          "PSGBUSD",
          "PSGUSDT",
          "BUSDBVND",
          "USDTBVND",
          "1INCHBTC",
          "1INCHUSDT",
          "REEFBTC",
          "REEFUSDT",
          "OGBTC",
          "OGUSDT",
          "ATMBTC",
          "ATMUSDT",
          "ASRBTC",
          "ASRUSDT",
          "CELOBTC",
          "CELOUSDT",
          "RIFBTC",
          "RIFUSDT",
          "CHZTRY",
          "XLMTRY",
          "LINKGBP",
          "GRTEUR",
          "BTCSTBTC",
          "BTCSTBUSD",
          "BTCSTUSDT",
          "TRUBTC",
          "TRUBUSD",
          "TRUUSDT",
          "DEXEETH",
          "DEXEBUSD",
          "EOSEUR",
          "LTCBRL",
          "USDCBUSD",
          "TUSDBUSD",
          "PAXBUSD",
          "CKBBTC",
          "CKBBUSD",
          "CKBUSDT",
          "TWTBTC",
          "TWTBUSD",
          "TWTUSDT",
          "FIROBTC",
          "FIROETH",
          "FIROUSDT",
          "BETHETH",
          "DOGEEUR",
          "DOGETRY",
          "DOGEAUD",
          "DOGEBRL",
          "DOTNGN",
          "PROSETH",
          "LITBTC",
          "LITBUSD",
          "LITUSDT",
          "BTCVAI",
          "BUSDVAI",
          "SFPBTC",
          "SFPBUSD",
          "SFPUSDT",
          "DOGEGBP",
          "DOTTRY",
          "FXSBTC",
          "FXSBUSD",
          "DODOBTC",
          "DODOBUSD",
          "DODOUSDT",
          "FRONTBTC",
          "EASYBTC",
          "CAKEBTC",
          "CAKEUSDT",
          "BAKEBUSD",
          "UFTETH",
          "UFTBUSD",
          "1INCHBUSD",
          "BANDBUSD",
          "GRTBUSD",
          "IOSTBUSD",
          "OMGBUSD",
          "REEFBUSD",
          "ACMBTC",
          "ACMBUSD",
          "ACMUSDT",
          "AUCTIONBTC",
          "AUCTIONBUSD",
          "PHABTC",
          "PHABUSD",
          "DOTGBP",
          "ADATRY",
          "ADABRL",
          "ADAGBP",
          "TVKBTC",
          "TVKBUSD",
          "BADGERBTC",
          "BADGERBUSD",
          "BADGERUSDT",
          "FISBTC",
          "FISBUSD",
          "FISUSDT",
          "DOTBRL",
          "ADAAUD",
          "HOTTRY",
          "EGLDEUR",
          "OMBTC",
          "OMBUSD",
          "OMUSDT",
          "PONDBTC",
          "PONDBUSD",
          "PONDUSDT",
          "DEGOBTC",
          "DEGOBUSD",
          "DEGOUSDT",
          "AVAXEUR",
          "BTTTRY",
          "CHZBRL",
          "UNIEUR",
          "ALICEBTC",
          "ALICEBUSD",
          "ALICEUSDT",
          "CHZBUSD",
          "CHZEUR",
          "CHZGBP",
          "BIFIBNB",
          "BIFIBUSD",
          "LINABTC",
          "LINABUSD",
          "LINAUSDT",
          "ADARUB",
          "ENJBRL",
          "ENJEUR",
          "MATICEUR",
          "NEOTRY",
          "PERPBTC",
          "PERPBUSD",
          "PERPUSDT",
          "RAMPBTC",
          "RAMPBUSD",
          "RAMPUSDT",
          "SUPERBTC",
          "SUPERBUSD",
          "SUPERUSDT",
          "CFXBTC",
          "CFXBUSD",
          "CFXUSDT",
          "ENJGBP",
          "EOSTRY",
          "LTCGBP",
          "LUNAEUR",
          "RVNTRY",
          "THETAEUR",
          "XVGBUSD",
          "EPSBTC",
          "EPSBUSD",
          "EPSUSDT",
          "AUTOBTC",
          "AUTOBUSD",
          "AUTOUSDT",
          "TKOBTC",
          "TKOBIDR",
          "TKOBUSD",
          "TKOUSDT",
          "PUNDIXETH",
          "PUNDIXUSDT",
          "BTTBRL",
          "BTTEUR",
          "HOTEUR",
          "WINEUR",
          "TLMBTC",
          "TLMBUSD",
          "TLMUSDT",
          "1INCHUPUSDT",
          "1INCHDOWNUSDT",
          "BTGBUSD",
          "BTGUSDT",
          "HOTBUSD",
          "BNBUAH",
          "ONTTRY",
          "VETEUR",
          "VETGBP",
          "WINBRL",
          "MIRBTC",
          "MIRBUSD",
          "MIRUSDT",
          "BARBTC",
          "BARBUSD",
          "BARUSDT",
          "FORTHBTC",
          "FORTHBUSD",
          "FORTHUSDT",
          "CAKEGBP",
          "DOGERUB",
          "HOTBRL",
          "WRXEUR",
          "EZBTC",
          "EZETH",
          "BAKEUSDT",
          "BURGERBUSD",
          "BURGERUSDT",
          "SLPBUSD",
          "SLPUSDT",
          "TRXAUD",
          "TRXEUR",
          "VETTRY",
          "SHIBUSDT",
          "SHIBBUSD",
          "ICPBTC",
          "ICPBNB",
          "ICPBUSD",
          "ICPUSDT",
          "BTCGYEN",
          "USDTGYEN",
          "SHIBEUR",
          "SHIBRUB",
          "ETCEUR",
          "ETCBRL",
          "DOGEBIDR",
          "ARBTC",
          "ARBNB",
          "ARBUSD",
          "ARUSDT",
          "POLSBTC",
          "POLSBNB",
          "POLSBUSD",
          "POLSUSDT",
          "MDXBTC",
          "MDXBNB",
          "MDXBUSD",
          "MDXUSDT",
          "MASKBNB",
          "MASKBUSD",
          "MASKUSDT",
          "LPTBTC",
          "LPTBNB",
          "LPTBUSD",
          "LPTUSDT",
          "ETHUAH",
          "MATICBRL",
          "SOLEUR",
          "SHIBBRL",
          "AGIXBTC",
          "ICPEUR",
          "MATICGBP",
          "SHIBTRY",
          "MATICBIDR",
          "MATICRUB",
          "NUBTC",
          "NUBNB",
          "NUBUSD",
          "NUUSDT",
          "XVGUSDT",
          "RLCBUSD",
          "CELRBUSD",
          "ATMBUSD",
          "ZENBUSD",
          "FTMBUSD",
          "THETABUSD",
          "WINBUSD",
          "KAVABUSD",
          "XEMBUSD",
          "ATABTC",
          "ATABNB",
          "ATABUSD",
          "ATAUSDT",
          "GTCBTC",
          "GTCBNB",
          "GTCBUSD",
          "GTCUSDT",
          "TORNBTC",
          "TORNBNB",
          "TORNBUSD",
          "TORNUSDT",
          "MATICTRY",
          "ETCGBP",
          "SOLGBP",
          "BAKEBTC",
          "COTIBUSD",
          "KEEPBTC",
          "KEEPBNB",
          "KEEPBUSD",
          "KEEPUSDT",
          "SOLTRY",
          "RUNEGBP",
          "SOLBRL",
          "SCBUSD",
          "CHRBUSD",
          "STMXBUSD",
          "HNTBUSD",
          "FTTBUSD",
          "DOCKBUSD",
          "ADABIDR",
          "ERNBNB",
          "ERNBUSD",
          "ERNUSDT",
          "KLAYBTC",
          "KLAYBNB",
          "KLAYBUSD",
          "KLAYUSDT",
          "RUNEEUR",
          "MATICAUD",
          "DOTRUB",
          "UTKBUSD",
          "IOTXBUSD",
          "PHAUSDT",
          "SOLRUB",
          "RUNEAUD",
          "BUSDUAH",
          "BONDBTC",
          "BONDBNB",
          "BONDBUSD",
          "BONDUSDT",
          "MLNBTC",
          "MLNBNB",
          "MLNBUSD",
          "MLNUSDT",
          "GRTTRY",
          "CAKEBRL",
          "ICPRUB",
          "DOTAUD",
          "AAVEBRL",
          "EOSAUD",
          "DEXEUSDT",
          "LTOBUSD",
          "ADXBUSD",
          "QUICKBTC",
          "QUICKBNB",
          "QUICKBUSD",
          "C98USDT",
          "C98BUSD",
          "C98BNB",
          "C98BTC",
          "CLVBTC",
          "CLVBNB",
          "CLVBUSD",
          "CLVUSDT",
          "QNTBTC",
          "QNTBNB",
          "QNTBUSD",
          "QNTUSDT",
          "FLOWBTC",
          "FLOWBNB",
          "FLOWBUSD",
          "FLOWUSDT",
          "XECBUSD",
          "AXSBRL",
          "AXSAUD",
          "TVKUSDT",
          "MINABTC",
          "MINABNB",
          "MINABUSD",
          "MINAUSDT",
          "RAYBNB",
          "RAYBUSD",
          "RAYUSDT",
          "FARMBTC",
          "FARMBNB",
          "FARMBUSD",
          "FARMUSDT",
          "ALPACABTC",
          "ALPACABNB",
          "ALPACABUSD",
          "ALPACAUSDT",
          "TLMTRY",
          "QUICKUSDT",
          "ORNBUSD",
          "MBOXBTC",
          "MBOXBNB",
          "MBOXBUSD",
          "MBOXUSDT",
          "VGXBTC",
          "VGXETH",
          "FORUSDT",
          "REQUSDT",
          "GHSTUSDT",
          "TRURUB",
          "FISBRL",
          "WAXPUSDT",
          "WAXPBUSD",
          "WAXPBNB",
          "WAXPBTC",
          "TRIBEBTC",
          "TRIBEBNB",
          "TRIBEBUSD",
          "TRIBEUSDT",
          "GNOUSDT",
          "GNOBUSD",
          "GNOBNB",
          "GNOBTC",
          "ARPATRY",
          "PROMBTC",
          "MTLBUSD",
          "OGNBUSD",
          "XECUSDT",
          "C98BRL",
          "SOLAUD",
          "XRPBIDR",
          "POLYBUSD",
          "ELFUSDT",
          "DYDXUSDT",
          "DYDXBUSD",
          "DYDXBNB",
          "DYDXBTC",
          "ELFBUSD",
          "POLYUSDT",
          "IDEXUSDT",
          "VIDTUSDT",
          "SOLBIDR",
          "AXSBIDR",
          "BTCUSDP",
          "ETHUSDP",
          "BNBUSDP",
          "USDPBUSD",
          "USDPUSDT",
          "GALAUSDT",
          "GALABUSD",
          "GALABNB",
          "GALABTC",
          "FTMBIDR",
          "ALGOBIDR",
          "CAKEAUD",
          "KSMAUD",
          "WAVESRUB",
          "SUNBUSD",
          "ILVUSDT",
          "ILVBUSD",
          "ILVBNB",
          "ILVBTC",
          "RENBUSD",
          "YGGUSDT",
          "YGGBUSD",
          "YGGBNB",
          "YGGBTC",
          "STXBUSD",
          "SYSUSDT",
          "DFUSDT",
          "SOLUSDC",
          "ARPARUB",
          "LTCUAH",
          "FETBUSD",
          "ARPABUSD",
          "LSKBUSD",
          "AVAXBIDR",
          "ALICEBIDR",
          "FIDAUSDT",
          "FIDABUSD",
          "FIDABNB",
          "FIDABTC",
          "DENTBUSD",
          "FRONTUSDT",
          "CVPUSDT",
          "AGLDBTC",
          "AGLDBNB",
          "AGLDBUSD",
          "AGLDUSDT",
          "RADBTC",
          "RADBNB",
          "RADBUSD",
          "RADUSDT",
          "UNIAUD",
          "HIVEBUSD",
          "STPTBUSD",
          "BETABTC",
          "BETABNB",
          "BETABUSD",
          "BETAUSDT",
          "SHIBAUD",
          "RAREBTC",
          "RAREBNB",
          "RAREBUSD",
          "RAREUSDT",
          "AVAXBRL",
          "AVAXAUD",
          "LUNAAUD",
          "TROYBUSD",
          "AXSETH",
          "FTMETH",
          "SOLETH",
          "SSVBTC",
          "SSVETH",
          "LAZIOTRY",
          "LAZIOEUR",
          "LAZIOBTC",
          "LAZIOUSDT",
          "CHESSBTC",
          "CHESSBNB",
          "CHESSBUSD",
          "CHESSUSDT",
          "FTMAUD",
          "FTMBRL",
          "SCRTBUSD",
          "ADXUSDT",
          "AUCTIONUSDT",
          "CELOBUSD",
          "FTMRUB",
          "NUAUD",
          "NURUB",
          "REEFTRY",
          "REEFBIDR",
          "SHIBDOGE",
          "DARUSDT",
          "DARBUSD",
          "DARBNB",
          "DARBTC",
          "BNXBTC",
          "BNXBNB",
          "BNXBUSD",
          "BNXUSDT",
          "RGTUSDT",
          "RGTBTC",
          "RGTBUSD",
          "RGTBNB",
          "LAZIOBUSD",
          "OXTBUSD",
          "MANATRY",
          "ALGORUB",
          "SHIBUAH",
          "LUNABIDR",
          "AUDUSDC",
          "MOVRBTC",
          "MOVRBNB",
          "MOVRBUSD",
          "MOVRUSDT",
          "CITYBTC",
          "CITYBNB",
          "CITYBUSD",
          "CITYUSDT",
          "ENSBTC",
          "ENSBNB",
          "ENSBUSD",
          "ENSUSDT",
          "SANDETH",
          "DOTETH",
          "MATICETH",
          "ANKRBUSD",
          "SANDTRY",
          "MANABRL",
          "KP3RUSDT",
          "QIUSDT",
          "QIBUSD",
          "QIBNB",
          "QIBTC",
          "PORTOBTC",
          "PORTOUSDT",
          "PORTOTRY",
          "PORTOEUR",
          "POWRUSDT",
          "POWRBUSD",
          "AVAXETH",
          "SLPTRY",
          "FISTRY",
          "LRCTRY",
          "CHRETH",
          "FISBIDR",
          "VGXUSDT",
          "GALAETH",
          "JASMYUSDT",
          "JASMYBUSD",
          "JASMYBNB",
          "JASMYBTC",
          "AMPBTC",
          "AMPBNB",
          "AMPBUSD",
          "AMPUSDT",
          "PLABTC",
          "PLABNB",
          "PLABUSD",
          "PLAUSDT",
          "PYRBTC",
          "PYRBUSD",
          "PYRUSDT",
          "RNDRBTC",
          "RNDRUSDT",
          "RNDRBUSD",
          "ALCXBTC",
          "ALCXBUSD",
          "ALCXUSDT",
          "SANTOSBTC",
          "SANTOSUSDT",
          "SANTOSBRL",
          "SANTOSTRY",
          "MCBTC",
          "MCBUSD",
          "MCUSDT",
          "BELTRY",
          "COCOSBUSD",
          "DENTTRY",
          "ENJTRY",
          "NEORUB",
          "SANDAUD",
          "SLPBIDR",
          "ANYBTC",
          "ANYBUSD",
          "ANYUSDT",
          "BICOBTC",
          "BICOBUSD",
          "BICOUSDT",
          "FLUXBTC",
          "FLUXBUSD",
          "FLUXUSDT",
          "ALICETRY",
          "FXSUSDT",
          "GALABRL",
          "GALATRY",
          "LUNATRY",
          "REQBUSD",
          "SANDBRL",
          "MANABIDR",
          "SANDBIDR",
          "VOXELBTC",
          "VOXELBNB",
          "VOXELBUSD",
          "VOXELUSDT",
          "COSBUSD",
          "CTXCBUSD",
          "FTMTRY",
          "MANABNB",
          "MINATRY",
          "XTZTRY",
          "HIGHBTC",
          "HIGHBUSD",
          "HIGHUSDT",
          "CVXBTC",
          "CVXBUSD",
          "CVXUSDT",
          "PEOPLEBTC",
          "PEOPLEBUSD",
          "PEOPLEUSDT",
          "OOKIBUSD",
          "OOKIUSDT",
          "COCOSTRY",
          "GXSBNB",
          "LINKBNB",
          "LUNAETH",
          "MDTBUSD",
          "NULSBUSD",
          "SPELLBTC",
          "SPELLUSDT",
          "SPELLBUSD",
          "USTBTC",
          "USTBUSD",
          "USTUSDT",
          "JOEBTC",
          "JOEBUSD",
          "JOEUSDT",
          "ATOMETH",
          "DUSKBUSD",
          "EGLDETH",
          "ICPETH",
          "LUNABRL",
          "LUNAUST",
          "NEARETH",
          "ROSEBNB",
          "VOXELETH",
          "ALICEBNB",
          "ATOMTRY",
          "ETHUST",
          "GALAAUD",
          "LRCBNB",
          "ONEETH",
          "OOKIBNB",
          "ACHBTC",
          "ACHBUSD",
          "ACHUSDT",
          "IMXBTC",
          "IMXBUSD",
          "IMXUSDT",
          "GLMRBTC",
          "GLMRBUSD",
          "GLMRUSDT",
          "ATOMBIDR",
          "DYDXETH",
          "FARMETH",
          "FORBNB",
          "ICPTRY",
          "JASMYETH",
          "LINABNB",
          "OOKIETH",
          "ROSEETH",
          "UMABUSD",
          "UNIETH",
          "XTZETH",
          "LOKABTC",
          "LOKABNB",
          "LOKABUSD",
          "LOKAUSDT",
          "ATOMBRL",
          "BNBUST",
          "CRVETH",
          "HIGHBNB",
          "NEARRUB",
          "ROSETRY",
          "SCRTUSDT",
          "API3BTC",
          "API3BUSD",
          "API3USDT",
          "BTTCUSDT",
          "BTTCUSDC",
          "BTTCTRY",
          "ACABTC",
          "ACABUSD",
          "ACAUSDT",
          "ANCBTC",
          "ANCBUSD",
          "ANCUSDT",
          "BDOTDOT",
          "XNOBTC",
          "XNOETH",
          "XNOBUSD",
          "XNOUSDT",
          "COSTRY",
          "KAVAETH",
          "MCBNB",
          "ONETRY",
          "WOOBTC",
          "WOOBNB",
          "WOOBUSD",
          "WOOUSDT",
          "CELRETH",
          "PEOPLEBNB",
          "SLPBNB",
          "SPELLBNB",
          "SPELLTRY",
          "TFUELBUSD",
          "AXSTRY",
          "DARTRY",
          "NEARTRY",
          "IDEXBNB",
          "ALPINEEUR",
          "ALPINETRY",
          "ALPINEUSDT",
          "ALPINEBTC",
          "TUSDT",
          "TBUSD",
          "API3BNB",
          "BETAETH",
          "INJTRY",
          "TLMBNB"
         ],
         "legendgroup": "",
         "name": "",
         "showlegend": true,
         "type": "pie",
         "values": [
          "BTC",
          "BTC",
          "BTC",
          "BTC",
          "ETH",
          "ETH",
          "ETH",
          "ETH",
          "BTC",
          "BTC",
          "ETH",
          "USDT",
          "USDT",
          "BTC",
          "ETH",
          "ETH",
          "ETH",
          "ETH",
          "BTC",
          "BTC",
          "ETH",
          "BTC",
          "ETH",
          "BTC",
          "BTC",
          "BTC",
          "ETH",
          "BTC",
          "ETH",
          "BTC",
          "ETH",
          "BTC",
          "ETH",
          "BTC",
          "ETH",
          "BTC",
          "ETH",
          "BTC",
          "ETH",
          "BTC",
          "ETH",
          "ETH",
          "BTC",
          "ETH",
          "BTC",
          "ETH",
          "BTC",
          "ETH",
          "BTC",
          "ETH",
          "BTC",
          "ETH",
          "BTC",
          "ETH",
          "BTC",
          "ETH",
          "BTC",
          "BTC",
          "ETH",
          "BTC",
          "BTC",
          "ETH",
          "BTC",
          "ETH",
          "BTC",
          "BTC",
          "ETH",
          "BTC",
          "BTC",
          "ETH",
          "BTC",
          "ETH",
          "BTC",
          "BTC",
          "BTC",
          "ETH",
          "BTC",
          "ETH",
          "BTC",
          "ETH",
          "BTC",
          "ETH",
          "ETH",
          "BTC",
          "ETH",
          "BTC",
          "ETH",
          "BTC",
          "ETH",
          "ETH",
          "BTC",
          "ETH",
          "BTC",
          "ETH",
          "BTC",
          "ETH",
          "BTC",
          "ETH",
          "USDT",
          "BNB",
          "BNB",
          "BNB",
          "BTC",
          "ETH",
          "BTC",
          "ETH",
          "BNB",
          "BTC",
          "ETH",
          "BNB",
          "BTC",
          "ETH",
          "BTC",
          "ETH",
          "BNB",
          "BTC",
          "ETH",
          "BNB",
          "BNB",
          "BTC",
          "ETH",
          "BTC",
          "ETH",
          "BNB",
          "ETH",
          "USDT",
          "BNB",
          "BTC",
          "ETH",
          "BNB",
          "BTC",
          "ETH",
          "BNB",
          "BTC",
          "ETH",
          "BTC",
          "ETH",
          "BTC",
          "ETH",
          "BTC",
          "ETH",
          "USDT",
          "BNB",
          "BTC",
          "ETH",
          "BTC",
          "ETH",
          "BNB",
          "BTC",
          "ETH",
          "BNB",
          "BTC",
          "ETH",
          "BNB",
          "BTC",
          "ETH",
          "BNB",
          "BTC",
          "ETH",
          "BTC",
          "ETH",
          "BTC",
          "ETH",
          "BTC",
          "ETH",
          "BTC",
          "ETH",
          "BNB",
          "BTC",
          "ETH",
          "BNB",
          "BTC",
          "ETH",
          "BTC",
          "ETH",
          "BTC",
          "ETH",
          "BNB",
          "BTC",
          "ETH",
          "BNB",
          "BTC",
          "ETH",
          "BNB",
          "BTC",
          "ETH",
          "BTC",
          "ETH",
          "BNB",
          "ETH",
          "USDT",
          "BNB",
          "BTC",
          "ETH",
          "BTC",
          "ETH",
          "BNB",
          "BTC",
          "ETH",
          "BNB",
          "BTC",
          "ETH",
          "BNB",
          "BTC",
          "ETH",
          "BNB",
          "BTC",
          "ETH",
          "BTC",
          "ETH",
          "BNB",
          "BTC",
          "BNB",
          "BTC",
          "ETH",
          "BNB",
          "BNB",
          "BTC",
          "ETH",
          "BTC",
          "ETH",
          "BTC",
          "ETH",
          "BNB",
          "BTC",
          "ETH",
          "BTC",
          "ETH",
          "BNB",
          "BTC",
          "ETH",
          "BNB",
          "BTC",
          "ETH",
          "BTC",
          "ETH",
          "BNB",
          "BTC",
          "ETH",
          "BTC",
          "BNB",
          "BTC",
          "ETH",
          "BTC",
          "ETH",
          "BTC",
          "ETH",
          "BNB",
          "BTC",
          "ETH",
          "BNB",
          "BTC",
          "ETH",
          "BNB",
          "BTC",
          "ETH",
          "BNB",
          "BTC",
          "ETH",
          "BNB",
          "BTC",
          "ETH",
          "BNB",
          "BTC",
          "ETH",
          "BNB",
          "BTC",
          "ETH",
          "BNB",
          "BTC",
          "ETH",
          "BNB",
          "BTC",
          "ETH",
          "BNB",
          "BTC",
          "ETH",
          "BNB",
          "BNB",
          "USDT",
          "BTC",
          "ETH",
          "BNB",
          "BTC",
          "ETH",
          "BNB",
          "BTC",
          "ETH",
          "BTC",
          "ETH",
          "BTC",
          "ETH",
          "BNB",
          "BNB",
          "BTC",
          "ETH",
          "USDT",
          "BNB",
          "BTC",
          "ETH",
          "BTC",
          "ETH",
          "BNB",
          "BTC",
          "ETH",
          "BNB",
          "USDT",
          "BTC",
          "ETH",
          "BNB",
          "BTC",
          "BNB",
          "TUSD",
          "BTC",
          "TUSD",
          "ETH",
          "BNB",
          "BTC",
          "ETH",
          "BNB",
          "BTC",
          "ETH",
          "BNB",
          "USDT",
          "BNB",
          "BTC",
          "ETH",
          "BNB",
          "BTC",
          "ETH",
          "BNB",
          "BNB",
          "USDT",
          "USDT",
          "USDT",
          "BTC",
          "ETH",
          "BTC",
          "ETH",
          "BTC",
          "ETH",
          "BNB",
          "BTC",
          "ETH",
          "BNB",
          "BNB",
          "BTC",
          "ETH",
          "USDT",
          "BNB",
          "USDT",
          "USDT",
          "BNB",
          "USDT",
          "BTC",
          "ETH",
          "BTC",
          "ETH",
          "USDT",
          "BTC",
          "ETH",
          "BTC",
          "ETH",
          "BNB",
          "BTC",
          "ETH",
          "BNB",
          "BTC",
          "ETH",
          "BTC",
          "ETH",
          "BNB",
          "USDT",
          "BTC",
          "ETH",
          "BTC",
          "ETH",
          "USDT",
          "BNB",
          "BTC",
          "ETH",
          "BTC",
          "BNB",
          "BTC",
          "ETH",
          "BNB",
          "BTC",
          "ETH",
          "BTC",
          "BNB",
          "BTC",
          "BNB",
          "USDT",
          "ETH",
          "BTC",
          "BTC",
          "BNB",
          "BNB",
          "BTC",
          "BNB",
          "BTC",
          "BTC",
          "USDT",
          "USDT",
          "PAX",
          "PAX",
          "PAX",
          "PAX",
          "PAX",
          "PAX",
          "BTC",
          "BNB",
          "TUSD",
          "TUSD",
          "TUSD",
          "TUSD",
          "USDC",
          "USDC",
          "USDC",
          "USDC",
          "USDC",
          "USDC",
          "USDT",
          "TUSD",
          "TUSD",
          "TUSD",
          "XRP",
          "XRP",
          "TUSD",
          "TUSD",
          "PAX",
          "USDT",
          "TUSD",
          "PAX",
          "USDC",
          "USDT",
          "TUSD",
          "PAX",
          "USDC",
          "TUSD",
          "PAX",
          "USDC",
          "TUSD",
          "PAX",
          "USDC",
          "TUSD",
          "PAX",
          "USDC",
          "PAX",
          "USDC",
          "BTC",
          "BNB",
          "USDT",
          "USDS",
          "USDS",
          "USDT",
          "PAX",
          "TUSD",
          "USDC",
          "PAX",
          "TUSD",
          "USDC",
          "BNB",
          "BTC",
          "USDT",
          "BNB",
          "USDT",
          "USDT",
          "BNB",
          "USDT",
          "BNB",
          "BTC",
          "USDT",
          "USDT",
          "BNB",
          "USDT",
          "BNB",
          "USDT",
          "PAX",
          "TUSD",
          "USDC",
          "USDT",
          "BNB",
          "BTC",
          "USDT",
          "PAX",
          "USDC",
          "PAX",
          "USDC",
          "BNB",
          "USDT",
          "USDT",
          "BNB",
          "USDT",
          "USDT",
          "USDT",
          "USDT",
          "BNB",
          "BTC",
          "USDT",
          "BNB",
          "BTC",
          "USDT",
          "USDC",
          "PAX",
          "TUSD",
          "USDC",
          "PAX",
          "TUSD",
          "USDC",
          "PAX",
          "TUSD",
          "BNB",
          "BTC",
          "USDC",
          "TUSD",
          "PAX",
          "BNB",
          "BTC",
          "USDT",
          "USDC",
          "TUSD",
          "PAX",
          "BNB",
          "BTC",
          "USDT",
          "TUSD",
          "PAX",
          "USDC",
          "BNB",
          "BTC",
          "USDT",
          "TUSD",
          "PAX",
          "USDC",
          "BTC",
          "TUSD",
          "PAX",
          "USDC",
          "BNB",
          "BTC",
          "USDT",
          "TUSD",
          "PAX",
          "USDC",
          "USDT",
          "USDS",
          "USDT",
          "PAX",
          "TUSD",
          "USDC",
          "BNB",
          "BTC",
          "USDT",
          "PAX",
          "USDC",
          "BNB",
          "BTC",
          "USDT",
          "PAX",
          "USDC",
          "BNB",
          "BTC",
          "USDT",
          "USDC",
          "PAX",
          "USDC",
          "BNB",
          "BTC",
          "USDT",
          "TUSD",
          "PAX",
          "USDC",
          "PAX",
          "USDC",
          "BNB",
          "BTC",
          "USDT",
          "USDC",
          "BNB",
          "BTC",
          "USDT",
          "TUSD",
          "USDT",
          "USDC",
          "BNB",
          "BTC",
          "USDT",
          "USDT",
          "BNB",
          "BTC",
          "USDT",
          "USDC",
          "BNB",
          "BTC",
          "USDC",
          "USDT",
          "USDT",
          "USDT",
          "USDT",
          "USDT",
          "USDT",
          "USDT",
          "USDT",
          "USDT",
          "TRX",
          "TRX",
          "BNB",
          "BTC",
          "USDT",
          "BNB",
          "BTC",
          "USDT",
          "BUSD",
          "BUSD",
          "USDT",
          "BNB",
          "BTC",
          "USDT",
          "BNB",
          "BTC",
          "USDT",
          "USDT",
          "USDT",
          "USDT",
          "BNB",
          "BTC",
          "USDT",
          "BNB",
          "BTC",
          "USDT",
          "BUSD",
          "BUSD",
          "BUSD",
          "BUSD",
          "BUSD",
          "BUSD",
          "BNB",
          "BTC",
          "USDT",
          "BNB",
          "BTC",
          "USDT",
          "NGN",
          "NGN",
          "NGN",
          "BNB",
          "BTC",
          "USDT",
          "BUSD",
          "BUSD",
          "USDT",
          "USDT",
          "USDT",
          "BUSD",
          "BUSD",
          "BNB",
          "BTC",
          "USDT",
          "BNB",
          "BTC",
          "USDT",
          "USDC",
          "TUSD",
          "PAX",
          "BUSD",
          "RUB",
          "RUB",
          "RUB",
          "RUB",
          "BNB",
          "BTC",
          "USDT",
          "RUB",
          "BUSD",
          "BUSD",
          "BNB",
          "BTC",
          "USDT",
          "BNB",
          "BTC",
          "USDT",
          "TRY",
          "TRY",
          "TRY",
          "TRY",
          "TRY",
          "TRY",
          "RUB",
          "EUR",
          "EUR",
          "EUR",
          "EUR",
          "BUSD",
          "USDT",
          "BNB",
          "BTC",
          "USDT",
          "BNB",
          "BTC",
          "USDT",
          "USDT",
          "BUSD",
          "USDT",
          "BUSD",
          "USDT",
          "BUSD",
          "USDT",
          "BUSD",
          "BNB",
          "BTC",
          "USDT",
          "BNB",
          "BTC",
          "USDT",
          "BUSD",
          "USDT",
          "BUSD",
          "USDT",
          "USDT",
          "BUSD",
          "BNB",
          "BTC",
          "USDT",
          "BUSD",
          "BUSD",
          "BUSD",
          "BUSD",
          "BUSD",
          "USDT",
          "BUSD",
          "USDT",
          "BUSD",
          "USDT",
          "BUSD",
          "USDT",
          "BUSD",
          "BUSD",
          "BUSD",
          "BUSD",
          "BUSD",
          "BUSD",
          "BUSD",
          "BNB",
          "USDT",
          "BUSD",
          "USDT",
          "BNB",
          "BTC",
          "USDT",
          "BNB",
          "BTC",
          "USDT",
          "BUSD",
          "BUSD",
          "BUSD",
          "BUSD",
          "BUSD",
          "USDT",
          "BUSD",
          "USDT",
          "BUSD",
          "BNB",
          "BTC",
          "USDT",
          "ZAR",
          "ZAR",
          "ZAR",
          "ZAR",
          "ZAR",
          "BKRW",
          "BKRW",
          "BKRW",
          "USDT",
          "BUSD",
          "USDT",
          "USDT",
          "BNB",
          "BTC",
          "USDT",
          "BUSD",
          "IDRT",
          "IDRT",
          "IDRT",
          "IDRT",
          "BTC",
          "USDT",
          "BNB",
          "BUSD",
          "BNB",
          "BTC",
          "USDT",
          "BNB",
          "BTC",
          "USDT",
          "USDT",
          "USDT",
          "USDT",
          "USDT",
          "BUSD",
          "USDT",
          "BUSD",
          "BUSD",
          "BUSD",
          "BUSD",
          "BNB",
          "BTC",
          "USDT",
          "BTC",
          "ETH",
          "USDT",
          "BUSD",
          "USDT",
          "BUSD",
          "USDT",
          "BUSD",
          "USDT",
          "BNB",
          "BUSD",
          "BTC",
          "USDT",
          "GBP",
          "GBP",
          "GBP",
          "GBP",
          "BUSD",
          "BTC",
          "BUSD",
          "UAH",
          "UAH",
          "BTC",
          "BNB",
          "BUSD",
          "USDT",
          "BIDR",
          "BIDR",
          "BIDR",
          "BIDR",
          "BIDR",
          "USDT",
          "BUSD",
          "USDT",
          "USDT",
          "BTC",
          "BNB",
          "BUSD",
          "BTC",
          "BNB",
          "BUSD",
          "USDT",
          "USDT",
          "USDT",
          "USDT",
          "USDT",
          "USDT",
          "USDT",
          "BNB",
          "BUSD",
          "USDT",
          "BUSD",
          "USDT",
          "USDT",
          "BUSD",
          "USDT",
          "BNB",
          "BTC",
          "BUSD",
          "BNB",
          "BTC",
          "USDT",
          "BUSD",
          "BNB",
          "BTC",
          "USDT",
          "BUSD",
          "BNB",
          "BTC",
          "BUSD",
          "BUSD",
          "BUSD",
          "BUSD",
          "BUSD",
          "USDT",
          "USDT",
          "BKRW",
          "BKRW",
          "AUD",
          "AUD",
          "BUSD",
          "BNB",
          "BTC",
          "BUSD",
          "USDT",
          "USDT",
          "USDT",
          "USDT",
          "BNB",
          "BTC",
          "BUSD",
          "BKRW",
          "BKRW",
          "BUSD",
          "USDT",
          "AUD",
          "AUD",
          "USDT",
          "BNB",
          "BTC",
          "BUSD",
          "BNB",
          "BTC",
          "BUSD",
          "USDT",
          "BUSD",
          "BUSD",
          "USDT",
          "USDT",
          "USDT",
          "USDT",
          "DAI",
          "DAI",
          "DAI",
          "DAI",
          "DAI",
          "BNB",
          "BTC",
          "BUSD",
          "USDT",
          "BNB",
          "BTC",
          "BUSD",
          "USDT",
          "BNB",
          "BTC",
          "BUSD",
          "USDT",
          "BNB",
          "BTC",
          "BUSD",
          "USDT",
          "BNB",
          "BTC",
          "USDT",
          "BUSD",
          "BNB",
          "BTC",
          "BUSD",
          "USDT",
          "BTC",
          "BUSD",
          "USDT",
          "BNB",
          "BTC",
          "BUSD",
          "USDT",
          "BNB",
          "BTC",
          "BUSD",
          "USDT",
          "BTC",
          "BUSD",
          "BNB",
          "BTC",
          "BUSD",
          "USDT",
          "BNB",
          "BTC",
          "BUSD",
          "USDT",
          "BNB",
          "BTC",
          "BUSD",
          "USDT",
          "BNB",
          "BTC",
          "BUSD",
          "USDT",
          "NGN",
          "BIDR",
          "AUD",
          "AUD",
          "BNB",
          "BTC",
          "BUSD",
          "USDT",
          "BTC",
          "ETH",
          "BNB",
          "BTC",
          "BUSD",
          "USDT",
          "BNB",
          "BTC",
          "BUSD",
          "USDT",
          "BNB",
          "BTC",
          "BUSD",
          "USDT",
          "BNB",
          "BTC",
          "BUSD",
          "USDT",
          "BNB",
          "BTC",
          "BUSD",
          "USDT",
          "USDT",
          "USDT",
          "BTC",
          "USDT",
          "USDT",
          "USDT",
          "USDT",
          "USDT",
          "USDT",
          "USDT",
          "USDT",
          "USDT",
          "BIDR",
          "BIDR",
          "TRY",
          "NGN",
          "BNB",
          "BTC",
          "BUSD",
          "USDT",
          "BNB",
          "BTC",
          "BNB",
          "BUSD",
          "BUSD",
          "USDT",
          "USDT",
          "USDT",
          "BKRW",
          "EUR",
          "BNB",
          "BUSD",
          "BNB",
          "BTC",
          "BUSD",
          "USDT",
          "BTC",
          "USDT",
          "BTC",
          "USDT",
          "BTC",
          "USDT",
          "BNB",
          "BTC",
          "BUSD",
          "USDT",
          "BTC",
          "USDT",
          "BNB",
          "BNB",
          "BIDR",
          "BKRW",
          "BNB",
          "BTC",
          "BUSD",
          "USDT",
          "BTC",
          "ETH",
          "BNB",
          "BUSD",
          "BNB",
          "USDT",
          "USDT",
          "BTC",
          "USDT",
          "NGN",
          "TRY",
          "BTC",
          "USDT",
          "BNB",
          "BTC",
          "BUSD",
          "USDT",
          "BNB",
          "BTC",
          "BUSD",
          "USDT",
          "BTC",
          "BUSD",
          "BNB",
          "BRL",
          "BRL",
          "BTC",
          "ETH",
          "BUSD",
          "USDT",
          "BKRW",
          "BNB",
          "BTC",
          "BUSD",
          "USDT",
          "USDT",
          "USDT",
          "BKRW",
          "GBP",
          "BNB",
          "BTC",
          "BUSD",
          "USDT",
          "USDT",
          "USDT",
          "USDT",
          "USDT",
          "BNB",
          "BTC",
          "BUSD",
          "USDT",
          "BTC",
          "BUSD",
          "EUR",
          "BUSD",
          "ETH",
          "BTC",
          "BUSD",
          "USDT",
          "BNB",
          "BTC",
          "BUSD",
          "USDT",
          "USDT",
          "USDT",
          "BTC",
          "BUSD",
          "BRL",
          "EUR",
          "BTC",
          "USDT",
          "BNB",
          "BUSD",
          "BNB",
          "BTC",
          "BUSD",
          "USDT",
          "BNB",
          "BTC",
          "BUSD",
          "USDT",
          "BRL",
          "EUR",
          "BTC",
          "ETH",
          "BUSD",
          "USDT",
          "ETH",
          "EUR",
          "NGN",
          "ETH",
          "BUSD",
          "BTC",
          "ETH",
          "BUSD",
          "USDT",
          "BTC",
          "BUSD",
          "BNB",
          "BTC",
          "BUSD",
          "USDT",
          "ETH",
          "BUSD",
          "BUSD",
          "BTC",
          "BUSD",
          "USDT",
          "TRY",
          "BRL",
          "USDT",
          "BUSD",
          "USDT",
          "ETH",
          "BUSD",
          "USDT",
          "USDT",
          "BNB",
          "BUSD",
          "BRL",
          "NGN",
          "BTC",
          "BUSD",
          "USDT",
          "EUR",
          "EUR",
          "BIDR",
          "BTC",
          "ETH",
          "USDT",
          "ETH",
          "BUSD",
          "BTC",
          "ETH",
          "ETH",
          "BUSD",
          "USDT",
          "USDT",
          "USDT",
          "USDT",
          "BRL",
          "NGN",
          "RUB",
          "TRY",
          "EUR",
          "ETH",
          "BUSD",
          "BTC",
          "ETH",
          "USDT",
          "BTC",
          "BUSD",
          "USDT",
          "BTC",
          "BUSD",
          "USDT",
          "BVND",
          "BVND",
          "BTC",
          "USDT",
          "BTC",
          "USDT",
          "BTC",
          "USDT",
          "BTC",
          "USDT",
          "BTC",
          "USDT",
          "BTC",
          "USDT",
          "BTC",
          "USDT",
          "TRY",
          "TRY",
          "GBP",
          "EUR",
          "BTC",
          "BUSD",
          "USDT",
          "BTC",
          "BUSD",
          "USDT",
          "ETH",
          "BUSD",
          "EUR",
          "BRL",
          "BUSD",
          "BUSD",
          "BUSD",
          "BTC",
          "BUSD",
          "USDT",
          "BTC",
          "BUSD",
          "USDT",
          "BTC",
          "ETH",
          "USDT",
          "ETH",
          "EUR",
          "TRY",
          "AUD",
          "BRL",
          "NGN",
          "ETH",
          "BTC",
          "BUSD",
          "USDT",
          "VAI",
          "VAI",
          "BTC",
          "BUSD",
          "USDT",
          "GBP",
          "TRY",
          "BTC",
          "BUSD",
          "BTC",
          "BUSD",
          "USDT",
          "BTC",
          "BTC",
          "BTC",
          "USDT",
          "BUSD",
          "ETH",
          "BUSD",
          "BUSD",
          "BUSD",
          "BUSD",
          "BUSD",
          "BUSD",
          "BUSD",
          "BTC",
          "BUSD",
          "USDT",
          "BTC",
          "BUSD",
          "BTC",
          "BUSD",
          "GBP",
          "TRY",
          "BRL",
          "GBP",
          "BTC",
          "BUSD",
          "BTC",
          "BUSD",
          "USDT",
          "BTC",
          "BUSD",
          "USDT",
          "BRL",
          "AUD",
          "TRY",
          "EUR",
          "BTC",
          "BUSD",
          "USDT",
          "BTC",
          "BUSD",
          "USDT",
          "BTC",
          "BUSD",
          "USDT",
          "EUR",
          "TRY",
          "BRL",
          "EUR",
          "BTC",
          "BUSD",
          "USDT",
          "BUSD",
          "EUR",
          "GBP",
          "BNB",
          "BUSD",
          "BTC",
          "BUSD",
          "USDT",
          "RUB",
          "BRL",
          "EUR",
          "EUR",
          "TRY",
          "BTC",
          "BUSD",
          "USDT",
          "BTC",
          "BUSD",
          "USDT",
          "BTC",
          "BUSD",
          "USDT",
          "BTC",
          "BUSD",
          "USDT",
          "GBP",
          "TRY",
          "GBP",
          "EUR",
          "TRY",
          "EUR",
          "BUSD",
          "BTC",
          "BUSD",
          "USDT",
          "BTC",
          "BUSD",
          "USDT",
          "BTC",
          "BIDR",
          "BUSD",
          "USDT",
          "ETH",
          "USDT",
          "BRL",
          "EUR",
          "EUR",
          "EUR",
          "BTC",
          "BUSD",
          "USDT",
          "USDT",
          "USDT",
          "BUSD",
          "USDT",
          "BUSD",
          "UAH",
          "TRY",
          "EUR",
          "GBP",
          "BRL",
          "BTC",
          "BUSD",
          "USDT",
          "BTC",
          "BUSD",
          "USDT",
          "BTC",
          "BUSD",
          "USDT",
          "GBP",
          "RUB",
          "BRL",
          "EUR",
          "BTC",
          "ETH",
          "USDT",
          "BUSD",
          "USDT",
          "BUSD",
          "USDT",
          "AUD",
          "EUR",
          "TRY",
          "USDT",
          "BUSD",
          "BTC",
          "BNB",
          "BUSD",
          "USDT",
          "GYEN",
          "GYEN",
          "EUR",
          "RUB",
          "EUR",
          "BRL",
          "BIDR",
          "BTC",
          "BNB",
          "BUSD",
          "USDT",
          "BTC",
          "BNB",
          "BUSD",
          "USDT",
          "BTC",
          "BNB",
          "BUSD",
          "USDT",
          "BNB",
          "BUSD",
          "USDT",
          "BTC",
          "BNB",
          "BUSD",
          "USDT",
          "UAH",
          "BRL",
          "EUR",
          "BRL",
          "BTC",
          "EUR",
          "GBP",
          "TRY",
          "BIDR",
          "RUB",
          "BTC",
          "BNB",
          "BUSD",
          "USDT",
          "USDT",
          "BUSD",
          "BUSD",
          "BUSD",
          "BUSD",
          "BUSD",
          "BUSD",
          "BUSD",
          "BUSD",
          "BUSD",
          "BTC",
          "BNB",
          "BUSD",
          "USDT",
          "BTC",
          "BNB",
          "BUSD",
          "USDT",
          "BTC",
          "BNB",
          "BUSD",
          "USDT",
          "TRY",
          "GBP",
          "GBP",
          "BTC",
          "BUSD",
          "BTC",
          "BNB",
          "BUSD",
          "USDT",
          "TRY",
          "GBP",
          "BRL",
          "BUSD",
          "BUSD",
          "BUSD",
          "BUSD",
          "BUSD",
          "BUSD",
          "BIDR",
          "BNB",
          "BUSD",
          "USDT",
          "BTC",
          "BNB",
          "BUSD",
          "USDT",
          "EUR",
          "AUD",
          "RUB",
          "BUSD",
          "BUSD",
          "USDT",
          "RUB",
          "AUD",
          "UAH",
          "BTC",
          "BNB",
          "BUSD",
          "USDT",
          "BTC",
          "BNB",
          "BUSD",
          "USDT",
          "TRY",
          "BRL",
          "RUB",
          "AUD",
          "BRL",
          "AUD",
          "USDT",
          "BUSD",
          "BUSD",
          "BTC",
          "BNB",
          "BUSD",
          "USDT",
          "BUSD",
          "BNB",
          "BTC",
          "BTC",
          "BNB",
          "BUSD",
          "USDT",
          "BTC",
          "BNB",
          "BUSD",
          "USDT",
          "BTC",
          "BNB",
          "BUSD",
          "USDT",
          "BUSD",
          "BRL",
          "AUD",
          "USDT",
          "BTC",
          "BNB",
          "BUSD",
          "USDT",
          "BNB",
          "BUSD",
          "USDT",
          "BTC",
          "BNB",
          "BUSD",
          "USDT",
          "BTC",
          "BNB",
          "BUSD",
          "USDT",
          "TRY",
          "USDT",
          "BUSD",
          "BTC",
          "BNB",
          "BUSD",
          "USDT",
          "BTC",
          "ETH",
          "USDT",
          "USDT",
          "USDT",
          "RUB",
          "BRL",
          "USDT",
          "BUSD",
          "BNB",
          "BTC",
          "BTC",
          "BNB",
          "BUSD",
          "USDT",
          "USDT",
          "BUSD",
          "BNB",
          "BTC",
          "TRY",
          "BTC",
          "BUSD",
          "BUSD",
          "USDT",
          "BRL",
          "AUD",
          "BIDR",
          "BUSD",
          "USDT",
          "USDT",
          "BUSD",
          "BNB",
          "BTC",
          "BUSD",
          "USDT",
          "USDT",
          "USDT",
          "BIDR",
          "BIDR",
          "USDP",
          "USDP",
          "USDP",
          "BUSD",
          "USDT",
          "USDT",
          "BUSD",
          "BNB",
          "BTC",
          "BIDR",
          "BIDR",
          "AUD",
          "AUD",
          "RUB",
          "BUSD",
          "USDT",
          "BUSD",
          "BNB",
          "BTC",
          "BUSD",
          "USDT",
          "BUSD",
          "BNB",
          "BTC",
          "BUSD",
          "USDT",
          "USDT",
          "USDC",
          "RUB",
          "UAH",
          "BUSD",
          "BUSD",
          "BUSD",
          "BIDR",
          "BIDR",
          "USDT",
          "BUSD",
          "BNB",
          "BTC",
          "BUSD",
          "USDT",
          "USDT",
          "BTC",
          "BNB",
          "BUSD",
          "USDT",
          "BTC",
          "BNB",
          "BUSD",
          "USDT",
          "AUD",
          "BUSD",
          "BUSD",
          "BTC",
          "BNB",
          "BUSD",
          "USDT",
          "AUD",
          "BTC",
          "BNB",
          "BUSD",
          "USDT",
          "BRL",
          "AUD",
          "AUD",
          "BUSD",
          "ETH",
          "ETH",
          "ETH",
          "BTC",
          "ETH",
          "TRY",
          "EUR",
          "BTC",
          "USDT",
          "BTC",
          "BNB",
          "BUSD",
          "USDT",
          "AUD",
          "BRL",
          "BUSD",
          "USDT",
          "USDT",
          "BUSD",
          "RUB",
          "AUD",
          "RUB",
          "TRY",
          "BIDR",
          "DOGE",
          "USDT",
          "BUSD",
          "BNB",
          "BTC",
          "BTC",
          "BNB",
          "BUSD",
          "USDT",
          "USDT",
          "BTC",
          "BUSD",
          "BNB",
          "BUSD",
          "BUSD",
          "TRY",
          "RUB",
          "UAH",
          "BIDR",
          "USDC",
          "BTC",
          "BNB",
          "BUSD",
          "USDT",
          "BTC",
          "BNB",
          "BUSD",
          "USDT",
          "BTC",
          "BNB",
          "BUSD",
          "USDT",
          "ETH",
          "ETH",
          "ETH",
          "BUSD",
          "TRY",
          "BRL",
          "USDT",
          "USDT",
          "BUSD",
          "BNB",
          "BTC",
          "BTC",
          "USDT",
          "TRY",
          "EUR",
          "USDT",
          "BUSD",
          "ETH",
          "TRY",
          "TRY",
          "TRY",
          "ETH",
          "BIDR",
          "USDT",
          "ETH",
          "USDT",
          "BUSD",
          "BNB",
          "BTC",
          "BTC",
          "BNB",
          "BUSD",
          "USDT",
          "BTC",
          "BNB",
          "BUSD",
          "USDT",
          "BTC",
          "BUSD",
          "USDT",
          "BTC",
          "USDT",
          "BUSD",
          "BTC",
          "BUSD",
          "USDT",
          "BTC",
          "USDT",
          "BRL",
          "TRY",
          "BTC",
          "BUSD",
          "USDT",
          "TRY",
          "BUSD",
          "TRY",
          "TRY",
          "RUB",
          "AUD",
          "BIDR",
          "BTC",
          "BUSD",
          "USDT",
          "BTC",
          "BUSD",
          "USDT",
          "BTC",
          "BUSD",
          "USDT",
          "TRY",
          "USDT",
          "BRL",
          "TRY",
          "TRY",
          "BUSD",
          "BRL",
          "BIDR",
          "BIDR",
          "BTC",
          "BNB",
          "BUSD",
          "USDT",
          "BUSD",
          "BUSD",
          "TRY",
          "BNB",
          "TRY",
          "TRY",
          "BTC",
          "BUSD",
          "USDT",
          "BTC",
          "BUSD",
          "USDT",
          "BTC",
          "BUSD",
          "USDT",
          "BUSD",
          "USDT",
          "TRY",
          "BNB",
          "BNB",
          "ETH",
          "BUSD",
          "BUSD",
          "BTC",
          "USDT",
          "BUSD",
          "BTC",
          "BUSD",
          "USDT",
          "BTC",
          "BUSD",
          "USDT",
          "ETH",
          "BUSD",
          "ETH",
          "ETH",
          "BRL",
          "UST",
          "ETH",
          "BNB",
          "ETH",
          "BNB",
          "TRY",
          "UST",
          "AUD",
          "BNB",
          "ETH",
          "BNB",
          "BTC",
          "BUSD",
          "USDT",
          "BTC",
          "BUSD",
          "USDT",
          "BTC",
          "BUSD",
          "USDT",
          "BIDR",
          "ETH",
          "ETH",
          "BNB",
          "TRY",
          "ETH",
          "BNB",
          "ETH",
          "ETH",
          "BUSD",
          "ETH",
          "ETH",
          "BTC",
          "BNB",
          "BUSD",
          "USDT",
          "BRL",
          "UST",
          "ETH",
          "BNB",
          "RUB",
          "TRY",
          "USDT",
          "BTC",
          "BUSD",
          "USDT",
          "USDT",
          "USDC",
          "TRY",
          "BTC",
          "BUSD",
          "USDT",
          "BTC",
          "BUSD",
          "USDT",
          "DOT",
          "BTC",
          "ETH",
          "BUSD",
          "USDT",
          "TRY",
          "ETH",
          "BNB",
          "TRY",
          "BTC",
          "BNB",
          "BUSD",
          "USDT",
          "ETH",
          "BNB",
          "BNB",
          "BNB",
          "TRY",
          "BUSD",
          "TRY",
          "TRY",
          "TRY",
          "BNB",
          "EUR",
          "TRY",
          "USDT",
          "BTC",
          "USDT",
          "BUSD",
          "BNB",
          "ETH",
          "TRY",
          "BNB"
         ]
        }
       ],
       "layout": {
        "legend": {
         "tracegroupgap": 0
        },
        "template": {
         "data": {
          "bar": [
           {
            "error_x": {
             "color": "#2a3f5f"
            },
            "error_y": {
             "color": "#2a3f5f"
            },
            "marker": {
             "line": {
              "color": "#E5ECF6",
              "width": 0.5
             },
             "pattern": {
              "fillmode": "overlay",
              "size": 10,
              "solidity": 0.2
             }
            },
            "type": "bar"
           }
          ],
          "barpolar": [
           {
            "marker": {
             "line": {
              "color": "#E5ECF6",
              "width": 0.5
             },
             "pattern": {
              "fillmode": "overlay",
              "size": 10,
              "solidity": 0.2
             }
            },
            "type": "barpolar"
           }
          ],
          "carpet": [
           {
            "aaxis": {
             "endlinecolor": "#2a3f5f",
             "gridcolor": "white",
             "linecolor": "white",
             "minorgridcolor": "white",
             "startlinecolor": "#2a3f5f"
            },
            "baxis": {
             "endlinecolor": "#2a3f5f",
             "gridcolor": "white",
             "linecolor": "white",
             "minorgridcolor": "white",
             "startlinecolor": "#2a3f5f"
            },
            "type": "carpet"
           }
          ],
          "choropleth": [
           {
            "colorbar": {
             "outlinewidth": 0,
             "ticks": ""
            },
            "type": "choropleth"
           }
          ],
          "contour": [
           {
            "colorbar": {
             "outlinewidth": 0,
             "ticks": ""
            },
            "colorscale": [
             [
              0,
              "#0d0887"
             ],
             [
              0.1111111111111111,
              "#46039f"
             ],
             [
              0.2222222222222222,
              "#7201a8"
             ],
             [
              0.3333333333333333,
              "#9c179e"
             ],
             [
              0.4444444444444444,
              "#bd3786"
             ],
             [
              0.5555555555555556,
              "#d8576b"
             ],
             [
              0.6666666666666666,
              "#ed7953"
             ],
             [
              0.7777777777777778,
              "#fb9f3a"
             ],
             [
              0.8888888888888888,
              "#fdca26"
             ],
             [
              1,
              "#f0f921"
             ]
            ],
            "type": "contour"
           }
          ],
          "contourcarpet": [
           {
            "colorbar": {
             "outlinewidth": 0,
             "ticks": ""
            },
            "type": "contourcarpet"
           }
          ],
          "heatmap": [
           {
            "colorbar": {
             "outlinewidth": 0,
             "ticks": ""
            },
            "colorscale": [
             [
              0,
              "#0d0887"
             ],
             [
              0.1111111111111111,
              "#46039f"
             ],
             [
              0.2222222222222222,
              "#7201a8"
             ],
             [
              0.3333333333333333,
              "#9c179e"
             ],
             [
              0.4444444444444444,
              "#bd3786"
             ],
             [
              0.5555555555555556,
              "#d8576b"
             ],
             [
              0.6666666666666666,
              "#ed7953"
             ],
             [
              0.7777777777777778,
              "#fb9f3a"
             ],
             [
              0.8888888888888888,
              "#fdca26"
             ],
             [
              1,
              "#f0f921"
             ]
            ],
            "type": "heatmap"
           }
          ],
          "heatmapgl": [
           {
            "colorbar": {
             "outlinewidth": 0,
             "ticks": ""
            },
            "colorscale": [
             [
              0,
              "#0d0887"
             ],
             [
              0.1111111111111111,
              "#46039f"
             ],
             [
              0.2222222222222222,
              "#7201a8"
             ],
             [
              0.3333333333333333,
              "#9c179e"
             ],
             [
              0.4444444444444444,
              "#bd3786"
             ],
             [
              0.5555555555555556,
              "#d8576b"
             ],
             [
              0.6666666666666666,
              "#ed7953"
             ],
             [
              0.7777777777777778,
              "#fb9f3a"
             ],
             [
              0.8888888888888888,
              "#fdca26"
             ],
             [
              1,
              "#f0f921"
             ]
            ],
            "type": "heatmapgl"
           }
          ],
          "histogram": [
           {
            "marker": {
             "pattern": {
              "fillmode": "overlay",
              "size": 10,
              "solidity": 0.2
             }
            },
            "type": "histogram"
           }
          ],
          "histogram2d": [
           {
            "colorbar": {
             "outlinewidth": 0,
             "ticks": ""
            },
            "colorscale": [
             [
              0,
              "#0d0887"
             ],
             [
              0.1111111111111111,
              "#46039f"
             ],
             [
              0.2222222222222222,
              "#7201a8"
             ],
             [
              0.3333333333333333,
              "#9c179e"
             ],
             [
              0.4444444444444444,
              "#bd3786"
             ],
             [
              0.5555555555555556,
              "#d8576b"
             ],
             [
              0.6666666666666666,
              "#ed7953"
             ],
             [
              0.7777777777777778,
              "#fb9f3a"
             ],
             [
              0.8888888888888888,
              "#fdca26"
             ],
             [
              1,
              "#f0f921"
             ]
            ],
            "type": "histogram2d"
           }
          ],
          "histogram2dcontour": [
           {
            "colorbar": {
             "outlinewidth": 0,
             "ticks": ""
            },
            "colorscale": [
             [
              0,
              "#0d0887"
             ],
             [
              0.1111111111111111,
              "#46039f"
             ],
             [
              0.2222222222222222,
              "#7201a8"
             ],
             [
              0.3333333333333333,
              "#9c179e"
             ],
             [
              0.4444444444444444,
              "#bd3786"
             ],
             [
              0.5555555555555556,
              "#d8576b"
             ],
             [
              0.6666666666666666,
              "#ed7953"
             ],
             [
              0.7777777777777778,
              "#fb9f3a"
             ],
             [
              0.8888888888888888,
              "#fdca26"
             ],
             [
              1,
              "#f0f921"
             ]
            ],
            "type": "histogram2dcontour"
           }
          ],
          "mesh3d": [
           {
            "colorbar": {
             "outlinewidth": 0,
             "ticks": ""
            },
            "type": "mesh3d"
           }
          ],
          "parcoords": [
           {
            "line": {
             "colorbar": {
              "outlinewidth": 0,
              "ticks": ""
             }
            },
            "type": "parcoords"
           }
          ],
          "pie": [
           {
            "automargin": true,
            "type": "pie"
           }
          ],
          "scatter": [
           {
            "marker": {
             "colorbar": {
              "outlinewidth": 0,
              "ticks": ""
             }
            },
            "type": "scatter"
           }
          ],
          "scatter3d": [
           {
            "line": {
             "colorbar": {
              "outlinewidth": 0,
              "ticks": ""
             }
            },
            "marker": {
             "colorbar": {
              "outlinewidth": 0,
              "ticks": ""
             }
            },
            "type": "scatter3d"
           }
          ],
          "scattercarpet": [
           {
            "marker": {
             "colorbar": {
              "outlinewidth": 0,
              "ticks": ""
             }
            },
            "type": "scattercarpet"
           }
          ],
          "scattergeo": [
           {
            "marker": {
             "colorbar": {
              "outlinewidth": 0,
              "ticks": ""
             }
            },
            "type": "scattergeo"
           }
          ],
          "scattergl": [
           {
            "marker": {
             "colorbar": {
              "outlinewidth": 0,
              "ticks": ""
             }
            },
            "type": "scattergl"
           }
          ],
          "scattermapbox": [
           {
            "marker": {
             "colorbar": {
              "outlinewidth": 0,
              "ticks": ""
             }
            },
            "type": "scattermapbox"
           }
          ],
          "scatterpolar": [
           {
            "marker": {
             "colorbar": {
              "outlinewidth": 0,
              "ticks": ""
             }
            },
            "type": "scatterpolar"
           }
          ],
          "scatterpolargl": [
           {
            "marker": {
             "colorbar": {
              "outlinewidth": 0,
              "ticks": ""
             }
            },
            "type": "scatterpolargl"
           }
          ],
          "scatterternary": [
           {
            "marker": {
             "colorbar": {
              "outlinewidth": 0,
              "ticks": ""
             }
            },
            "type": "scatterternary"
           }
          ],
          "surface": [
           {
            "colorbar": {
             "outlinewidth": 0,
             "ticks": ""
            },
            "colorscale": [
             [
              0,
              "#0d0887"
             ],
             [
              0.1111111111111111,
              "#46039f"
             ],
             [
              0.2222222222222222,
              "#7201a8"
             ],
             [
              0.3333333333333333,
              "#9c179e"
             ],
             [
              0.4444444444444444,
              "#bd3786"
             ],
             [
              0.5555555555555556,
              "#d8576b"
             ],
             [
              0.6666666666666666,
              "#ed7953"
             ],
             [
              0.7777777777777778,
              "#fb9f3a"
             ],
             [
              0.8888888888888888,
              "#fdca26"
             ],
             [
              1,
              "#f0f921"
             ]
            ],
            "type": "surface"
           }
          ],
          "table": [
           {
            "cells": {
             "fill": {
              "color": "#EBF0F8"
             },
             "line": {
              "color": "white"
             }
            },
            "header": {
             "fill": {
              "color": "#C8D4E3"
             },
             "line": {
              "color": "white"
             }
            },
            "type": "table"
           }
          ]
         },
         "layout": {
          "annotationdefaults": {
           "arrowcolor": "#2a3f5f",
           "arrowhead": 0,
           "arrowwidth": 1
          },
          "autotypenumbers": "strict",
          "coloraxis": {
           "colorbar": {
            "outlinewidth": 0,
            "ticks": ""
           }
          },
          "colorscale": {
           "diverging": [
            [
             0,
             "#8e0152"
            ],
            [
             0.1,
             "#c51b7d"
            ],
            [
             0.2,
             "#de77ae"
            ],
            [
             0.3,
             "#f1b6da"
            ],
            [
             0.4,
             "#fde0ef"
            ],
            [
             0.5,
             "#f7f7f7"
            ],
            [
             0.6,
             "#e6f5d0"
            ],
            [
             0.7,
             "#b8e186"
            ],
            [
             0.8,
             "#7fbc41"
            ],
            [
             0.9,
             "#4d9221"
            ],
            [
             1,
             "#276419"
            ]
           ],
           "sequential": [
            [
             0,
             "#0d0887"
            ],
            [
             0.1111111111111111,
             "#46039f"
            ],
            [
             0.2222222222222222,
             "#7201a8"
            ],
            [
             0.3333333333333333,
             "#9c179e"
            ],
            [
             0.4444444444444444,
             "#bd3786"
            ],
            [
             0.5555555555555556,
             "#d8576b"
            ],
            [
             0.6666666666666666,
             "#ed7953"
            ],
            [
             0.7777777777777778,
             "#fb9f3a"
            ],
            [
             0.8888888888888888,
             "#fdca26"
            ],
            [
             1,
             "#f0f921"
            ]
           ],
           "sequentialminus": [
            [
             0,
             "#0d0887"
            ],
            [
             0.1111111111111111,
             "#46039f"
            ],
            [
             0.2222222222222222,
             "#7201a8"
            ],
            [
             0.3333333333333333,
             "#9c179e"
            ],
            [
             0.4444444444444444,
             "#bd3786"
            ],
            [
             0.5555555555555556,
             "#d8576b"
            ],
            [
             0.6666666666666666,
             "#ed7953"
            ],
            [
             0.7777777777777778,
             "#fb9f3a"
            ],
            [
             0.8888888888888888,
             "#fdca26"
            ],
            [
             1,
             "#f0f921"
            ]
           ]
          },
          "colorway": [
           "#636efa",
           "#EF553B",
           "#00cc96",
           "#ab63fa",
           "#FFA15A",
           "#19d3f3",
           "#FF6692",
           "#B6E880",
           "#FF97FF",
           "#FECB52"
          ],
          "font": {
           "color": "#2a3f5f"
          },
          "geo": {
           "bgcolor": "white",
           "lakecolor": "white",
           "landcolor": "#E5ECF6",
           "showlakes": true,
           "showland": true,
           "subunitcolor": "white"
          },
          "hoverlabel": {
           "align": "left"
          },
          "hovermode": "closest",
          "mapbox": {
           "style": "light"
          },
          "paper_bgcolor": "white",
          "plot_bgcolor": "#E5ECF6",
          "polar": {
           "angularaxis": {
            "gridcolor": "white",
            "linecolor": "white",
            "ticks": ""
           },
           "bgcolor": "#E5ECF6",
           "radialaxis": {
            "gridcolor": "white",
            "linecolor": "white",
            "ticks": ""
           }
          },
          "scene": {
           "xaxis": {
            "backgroundcolor": "#E5ECF6",
            "gridcolor": "white",
            "gridwidth": 2,
            "linecolor": "white",
            "showbackground": true,
            "ticks": "",
            "zerolinecolor": "white"
           },
           "yaxis": {
            "backgroundcolor": "#E5ECF6",
            "gridcolor": "white",
            "gridwidth": 2,
            "linecolor": "white",
            "showbackground": true,
            "ticks": "",
            "zerolinecolor": "white"
           },
           "zaxis": {
            "backgroundcolor": "#E5ECF6",
            "gridcolor": "white",
            "gridwidth": 2,
            "linecolor": "white",
            "showbackground": true,
            "ticks": "",
            "zerolinecolor": "white"
           }
          },
          "shapedefaults": {
           "line": {
            "color": "#2a3f5f"
           }
          },
          "ternary": {
           "aaxis": {
            "gridcolor": "white",
            "linecolor": "white",
            "ticks": ""
           },
           "baxis": {
            "gridcolor": "white",
            "linecolor": "white",
            "ticks": ""
           },
           "bgcolor": "#E5ECF6",
           "caxis": {
            "gridcolor": "white",
            "linecolor": "white",
            "ticks": ""
           }
          },
          "title": {
           "x": 0.05
          },
          "xaxis": {
           "automargin": true,
           "gridcolor": "white",
           "linecolor": "white",
           "ticks": "",
           "title": {
            "standoff": 15
           },
           "zerolinecolor": "white",
           "zerolinewidth": 2
          },
          "yaxis": {
           "automargin": true,
           "gridcolor": "white",
           "linecolor": "white",
           "ticks": "",
           "title": {
            "standoff": 15
           },
           "zerolinecolor": "white",
           "zerolinewidth": 2
          }
         }
        },
        "title": {
         "text": "Active Coins"
        }
       }
      }
     },
     "metadata": {},
     "output_type": "display_data"
    }
   ],
   "source": [
    "fig = px.pie(df, values='quoteasset', names='symbol', title='Active Coins')\n",
    "fig.show()"
   ]
  },
  {
   "cell_type": "code",
   "execution_count": 17,
   "metadata": {},
   "outputs": [
    {
     "data": {
      "application/vnd.plotly.v1+json": {
       "config": {
        "plotlyServerURL": "https://plot.ly"
       },
       "data": [
        {
         "domain": {
          "x": [
           0,
           1
          ],
          "y": [
           0,
           1
          ]
         },
         "hovertemplate": "symbol=%{label}<br>status=%{value}<extra></extra>",
         "labels": [
          519,
          1433
         ],
         "legendgroup": "",
         "name": "",
         "showlegend": true,
         "type": "pie",
         "values": [
          "BREAK",
          "TRADING"
         ]
        }
       ],
       "layout": {
        "legend": {
         "tracegroupgap": 0
        },
        "template": {
         "data": {
          "bar": [
           {
            "error_x": {
             "color": "#2a3f5f"
            },
            "error_y": {
             "color": "#2a3f5f"
            },
            "marker": {
             "line": {
              "color": "#E5ECF6",
              "width": 0.5
             },
             "pattern": {
              "fillmode": "overlay",
              "size": 10,
              "solidity": 0.2
             }
            },
            "type": "bar"
           }
          ],
          "barpolar": [
           {
            "marker": {
             "line": {
              "color": "#E5ECF6",
              "width": 0.5
             },
             "pattern": {
              "fillmode": "overlay",
              "size": 10,
              "solidity": 0.2
             }
            },
            "type": "barpolar"
           }
          ],
          "carpet": [
           {
            "aaxis": {
             "endlinecolor": "#2a3f5f",
             "gridcolor": "white",
             "linecolor": "white",
             "minorgridcolor": "white",
             "startlinecolor": "#2a3f5f"
            },
            "baxis": {
             "endlinecolor": "#2a3f5f",
             "gridcolor": "white",
             "linecolor": "white",
             "minorgridcolor": "white",
             "startlinecolor": "#2a3f5f"
            },
            "type": "carpet"
           }
          ],
          "choropleth": [
           {
            "colorbar": {
             "outlinewidth": 0,
             "ticks": ""
            },
            "type": "choropleth"
           }
          ],
          "contour": [
           {
            "colorbar": {
             "outlinewidth": 0,
             "ticks": ""
            },
            "colorscale": [
             [
              0,
              "#0d0887"
             ],
             [
              0.1111111111111111,
              "#46039f"
             ],
             [
              0.2222222222222222,
              "#7201a8"
             ],
             [
              0.3333333333333333,
              "#9c179e"
             ],
             [
              0.4444444444444444,
              "#bd3786"
             ],
             [
              0.5555555555555556,
              "#d8576b"
             ],
             [
              0.6666666666666666,
              "#ed7953"
             ],
             [
              0.7777777777777778,
              "#fb9f3a"
             ],
             [
              0.8888888888888888,
              "#fdca26"
             ],
             [
              1,
              "#f0f921"
             ]
            ],
            "type": "contour"
           }
          ],
          "contourcarpet": [
           {
            "colorbar": {
             "outlinewidth": 0,
             "ticks": ""
            },
            "type": "contourcarpet"
           }
          ],
          "heatmap": [
           {
            "colorbar": {
             "outlinewidth": 0,
             "ticks": ""
            },
            "colorscale": [
             [
              0,
              "#0d0887"
             ],
             [
              0.1111111111111111,
              "#46039f"
             ],
             [
              0.2222222222222222,
              "#7201a8"
             ],
             [
              0.3333333333333333,
              "#9c179e"
             ],
             [
              0.4444444444444444,
              "#bd3786"
             ],
             [
              0.5555555555555556,
              "#d8576b"
             ],
             [
              0.6666666666666666,
              "#ed7953"
             ],
             [
              0.7777777777777778,
              "#fb9f3a"
             ],
             [
              0.8888888888888888,
              "#fdca26"
             ],
             [
              1,
              "#f0f921"
             ]
            ],
            "type": "heatmap"
           }
          ],
          "heatmapgl": [
           {
            "colorbar": {
             "outlinewidth": 0,
             "ticks": ""
            },
            "colorscale": [
             [
              0,
              "#0d0887"
             ],
             [
              0.1111111111111111,
              "#46039f"
             ],
             [
              0.2222222222222222,
              "#7201a8"
             ],
             [
              0.3333333333333333,
              "#9c179e"
             ],
             [
              0.4444444444444444,
              "#bd3786"
             ],
             [
              0.5555555555555556,
              "#d8576b"
             ],
             [
              0.6666666666666666,
              "#ed7953"
             ],
             [
              0.7777777777777778,
              "#fb9f3a"
             ],
             [
              0.8888888888888888,
              "#fdca26"
             ],
             [
              1,
              "#f0f921"
             ]
            ],
            "type": "heatmapgl"
           }
          ],
          "histogram": [
           {
            "marker": {
             "pattern": {
              "fillmode": "overlay",
              "size": 10,
              "solidity": 0.2
             }
            },
            "type": "histogram"
           }
          ],
          "histogram2d": [
           {
            "colorbar": {
             "outlinewidth": 0,
             "ticks": ""
            },
            "colorscale": [
             [
              0,
              "#0d0887"
             ],
             [
              0.1111111111111111,
              "#46039f"
             ],
             [
              0.2222222222222222,
              "#7201a8"
             ],
             [
              0.3333333333333333,
              "#9c179e"
             ],
             [
              0.4444444444444444,
              "#bd3786"
             ],
             [
              0.5555555555555556,
              "#d8576b"
             ],
             [
              0.6666666666666666,
              "#ed7953"
             ],
             [
              0.7777777777777778,
              "#fb9f3a"
             ],
             [
              0.8888888888888888,
              "#fdca26"
             ],
             [
              1,
              "#f0f921"
             ]
            ],
            "type": "histogram2d"
           }
          ],
          "histogram2dcontour": [
           {
            "colorbar": {
             "outlinewidth": 0,
             "ticks": ""
            },
            "colorscale": [
             [
              0,
              "#0d0887"
             ],
             [
              0.1111111111111111,
              "#46039f"
             ],
             [
              0.2222222222222222,
              "#7201a8"
             ],
             [
              0.3333333333333333,
              "#9c179e"
             ],
             [
              0.4444444444444444,
              "#bd3786"
             ],
             [
              0.5555555555555556,
              "#d8576b"
             ],
             [
              0.6666666666666666,
              "#ed7953"
             ],
             [
              0.7777777777777778,
              "#fb9f3a"
             ],
             [
              0.8888888888888888,
              "#fdca26"
             ],
             [
              1,
              "#f0f921"
             ]
            ],
            "type": "histogram2dcontour"
           }
          ],
          "mesh3d": [
           {
            "colorbar": {
             "outlinewidth": 0,
             "ticks": ""
            },
            "type": "mesh3d"
           }
          ],
          "parcoords": [
           {
            "line": {
             "colorbar": {
              "outlinewidth": 0,
              "ticks": ""
             }
            },
            "type": "parcoords"
           }
          ],
          "pie": [
           {
            "automargin": true,
            "type": "pie"
           }
          ],
          "scatter": [
           {
            "marker": {
             "colorbar": {
              "outlinewidth": 0,
              "ticks": ""
             }
            },
            "type": "scatter"
           }
          ],
          "scatter3d": [
           {
            "line": {
             "colorbar": {
              "outlinewidth": 0,
              "ticks": ""
             }
            },
            "marker": {
             "colorbar": {
              "outlinewidth": 0,
              "ticks": ""
             }
            },
            "type": "scatter3d"
           }
          ],
          "scattercarpet": [
           {
            "marker": {
             "colorbar": {
              "outlinewidth": 0,
              "ticks": ""
             }
            },
            "type": "scattercarpet"
           }
          ],
          "scattergeo": [
           {
            "marker": {
             "colorbar": {
              "outlinewidth": 0,
              "ticks": ""
             }
            },
            "type": "scattergeo"
           }
          ],
          "scattergl": [
           {
            "marker": {
             "colorbar": {
              "outlinewidth": 0,
              "ticks": ""
             }
            },
            "type": "scattergl"
           }
          ],
          "scattermapbox": [
           {
            "marker": {
             "colorbar": {
              "outlinewidth": 0,
              "ticks": ""
             }
            },
            "type": "scattermapbox"
           }
          ],
          "scatterpolar": [
           {
            "marker": {
             "colorbar": {
              "outlinewidth": 0,
              "ticks": ""
             }
            },
            "type": "scatterpolar"
           }
          ],
          "scatterpolargl": [
           {
            "marker": {
             "colorbar": {
              "outlinewidth": 0,
              "ticks": ""
             }
            },
            "type": "scatterpolargl"
           }
          ],
          "scatterternary": [
           {
            "marker": {
             "colorbar": {
              "outlinewidth": 0,
              "ticks": ""
             }
            },
            "type": "scatterternary"
           }
          ],
          "surface": [
           {
            "colorbar": {
             "outlinewidth": 0,
             "ticks": ""
            },
            "colorscale": [
             [
              0,
              "#0d0887"
             ],
             [
              0.1111111111111111,
              "#46039f"
             ],
             [
              0.2222222222222222,
              "#7201a8"
             ],
             [
              0.3333333333333333,
              "#9c179e"
             ],
             [
              0.4444444444444444,
              "#bd3786"
             ],
             [
              0.5555555555555556,
              "#d8576b"
             ],
             [
              0.6666666666666666,
              "#ed7953"
             ],
             [
              0.7777777777777778,
              "#fb9f3a"
             ],
             [
              0.8888888888888888,
              "#fdca26"
             ],
             [
              1,
              "#f0f921"
             ]
            ],
            "type": "surface"
           }
          ],
          "table": [
           {
            "cells": {
             "fill": {
              "color": "#EBF0F8"
             },
             "line": {
              "color": "white"
             }
            },
            "header": {
             "fill": {
              "color": "#C8D4E3"
             },
             "line": {
              "color": "white"
             }
            },
            "type": "table"
           }
          ]
         },
         "layout": {
          "annotationdefaults": {
           "arrowcolor": "#2a3f5f",
           "arrowhead": 0,
           "arrowwidth": 1
          },
          "autotypenumbers": "strict",
          "coloraxis": {
           "colorbar": {
            "outlinewidth": 0,
            "ticks": ""
           }
          },
          "colorscale": {
           "diverging": [
            [
             0,
             "#8e0152"
            ],
            [
             0.1,
             "#c51b7d"
            ],
            [
             0.2,
             "#de77ae"
            ],
            [
             0.3,
             "#f1b6da"
            ],
            [
             0.4,
             "#fde0ef"
            ],
            [
             0.5,
             "#f7f7f7"
            ],
            [
             0.6,
             "#e6f5d0"
            ],
            [
             0.7,
             "#b8e186"
            ],
            [
             0.8,
             "#7fbc41"
            ],
            [
             0.9,
             "#4d9221"
            ],
            [
             1,
             "#276419"
            ]
           ],
           "sequential": [
            [
             0,
             "#0d0887"
            ],
            [
             0.1111111111111111,
             "#46039f"
            ],
            [
             0.2222222222222222,
             "#7201a8"
            ],
            [
             0.3333333333333333,
             "#9c179e"
            ],
            [
             0.4444444444444444,
             "#bd3786"
            ],
            [
             0.5555555555555556,
             "#d8576b"
            ],
            [
             0.6666666666666666,
             "#ed7953"
            ],
            [
             0.7777777777777778,
             "#fb9f3a"
            ],
            [
             0.8888888888888888,
             "#fdca26"
            ],
            [
             1,
             "#f0f921"
            ]
           ],
           "sequentialminus": [
            [
             0,
             "#0d0887"
            ],
            [
             0.1111111111111111,
             "#46039f"
            ],
            [
             0.2222222222222222,
             "#7201a8"
            ],
            [
             0.3333333333333333,
             "#9c179e"
            ],
            [
             0.4444444444444444,
             "#bd3786"
            ],
            [
             0.5555555555555556,
             "#d8576b"
            ],
            [
             0.6666666666666666,
             "#ed7953"
            ],
            [
             0.7777777777777778,
             "#fb9f3a"
            ],
            [
             0.8888888888888888,
             "#fdca26"
            ],
            [
             1,
             "#f0f921"
            ]
           ]
          },
          "colorway": [
           "#636efa",
           "#EF553B",
           "#00cc96",
           "#ab63fa",
           "#FFA15A",
           "#19d3f3",
           "#FF6692",
           "#B6E880",
           "#FF97FF",
           "#FECB52"
          ],
          "font": {
           "color": "#2a3f5f"
          },
          "geo": {
           "bgcolor": "white",
           "lakecolor": "white",
           "landcolor": "#E5ECF6",
           "showlakes": true,
           "showland": true,
           "subunitcolor": "white"
          },
          "hoverlabel": {
           "align": "left"
          },
          "hovermode": "closest",
          "mapbox": {
           "style": "light"
          },
          "paper_bgcolor": "white",
          "plot_bgcolor": "#E5ECF6",
          "polar": {
           "angularaxis": {
            "gridcolor": "white",
            "linecolor": "white",
            "ticks": ""
           },
           "bgcolor": "#E5ECF6",
           "radialaxis": {
            "gridcolor": "white",
            "linecolor": "white",
            "ticks": ""
           }
          },
          "scene": {
           "xaxis": {
            "backgroundcolor": "#E5ECF6",
            "gridcolor": "white",
            "gridwidth": 2,
            "linecolor": "white",
            "showbackground": true,
            "ticks": "",
            "zerolinecolor": "white"
           },
           "yaxis": {
            "backgroundcolor": "#E5ECF6",
            "gridcolor": "white",
            "gridwidth": 2,
            "linecolor": "white",
            "showbackground": true,
            "ticks": "",
            "zerolinecolor": "white"
           },
           "zaxis": {
            "backgroundcolor": "#E5ECF6",
            "gridcolor": "white",
            "gridwidth": 2,
            "linecolor": "white",
            "showbackground": true,
            "ticks": "",
            "zerolinecolor": "white"
           }
          },
          "shapedefaults": {
           "line": {
            "color": "#2a3f5f"
           }
          },
          "ternary": {
           "aaxis": {
            "gridcolor": "white",
            "linecolor": "white",
            "ticks": ""
           },
           "baxis": {
            "gridcolor": "white",
            "linecolor": "white",
            "ticks": ""
           },
           "bgcolor": "#E5ECF6",
           "caxis": {
            "gridcolor": "white",
            "linecolor": "white",
            "ticks": ""
           }
          },
          "title": {
           "x": 0.05
          },
          "xaxis": {
           "automargin": true,
           "gridcolor": "white",
           "linecolor": "white",
           "ticks": "",
           "title": {
            "standoff": 15
           },
           "zerolinecolor": "white",
           "zerolinewidth": 2
          },
          "yaxis": {
           "automargin": true,
           "gridcolor": "white",
           "linecolor": "white",
           "ticks": "",
           "title": {
            "standoff": 15
           },
           "zerolinecolor": "white",
           "zerolinewidth": 2
          }
         }
        },
        "title": {
         "text": "Active Coins"
        }
       }
      }
     },
     "metadata": {},
     "output_type": "display_data"
    }
   ],
   "source": [
    "g_df =df.groupby('status').count()\n",
    "\n",
    "fig = px.pie(g_df, values=g_df.index, names='symbol', title='Active Coins')\n",
    "fig.show()"
   ]
  },
  {
   "cell_type": "code",
   "execution_count": null,
   "metadata": {},
   "outputs": [],
   "source": []
  }
 ],
 "metadata": {
  "interpreter": {
   "hash": "1c92bd73b41884b7befcb1d8b1321df88e137de46123bdf42369a70150180cf9"
  },
  "kernelspec": {
   "display_name": "Python 3.8.10 ('env_data': venv)",
   "language": "python",
   "name": "python3"
  },
  "language_info": {
   "codemirror_mode": {
    "name": "ipython",
    "version": 3
   },
   "file_extension": ".py",
   "mimetype": "text/x-python",
   "name": "python",
   "nbconvert_exporter": "python",
   "pygments_lexer": "ipython3",
   "version": "3.8.10"
  },
  "orig_nbformat": 4
 },
 "nbformat": 4,
 "nbformat_minor": 2
}
